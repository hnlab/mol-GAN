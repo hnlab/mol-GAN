{
 "metadata": {
  "language_info": {
   "codemirror_mode": {
    "name": "ipython",
    "version": 3
   },
   "file_extension": ".py",
   "mimetype": "text/x-python",
   "name": "python",
   "nbconvert_exporter": "python",
   "pygments_lexer": "ipython3",
   "version": "3.6.13"
  },
  "orig_nbformat": 2,
  "kernelspec": {
   "name": "python3613jvsc74a57bd043666d1b6e7cd454ec8b51aa605c2403d687ec14a2ab3f5b9fefb78edefef4b3",
   "display_name": "Python 3.6.13 64-bit ('latent_gan_env': conda)"
  }
 },
 "nbformat": 4,
 "nbformat_minor": 2,
 "cells": [
  {
   "cell_type": "code",
   "execution_count": 6,
   "metadata": {},
   "outputs": [],
   "source": [
    "import h5py\n",
    "import json\n",
    "from rdkit import Chem"
   ]
  },
  {
   "cell_type": "code",
   "execution_count": 7,
   "metadata": {},
   "outputs": [],
   "source": [
    "# Get CHEMBL25_TEST_MOLS\n",
    "dataset_name = \"CHEMBL25_TEST_MOLS.h5\"\n",
    "\n",
    "dataset = h5py.File(dataset_name, \"r\")\n",
    "mols = dataset[\"mols\"][:]\n",
    "dataset.close()\n",
    "CHEMBL25_test_smiles = [Chem.MolToSmiles(Chem.Mol(mol)) for mol in mols]"
   ]
  },
  {
   "cell_type": "code",
   "execution_count": 8,
   "metadata": {},
   "outputs": [],
   "source": [
    "# Get CHEMBL25_TRAIN_MOLS\n",
    "dataset_name = \"CHEMBL25_TRAIN_MOLS.h5\"\n",
    "\n",
    "dataset = h5py.File(dataset_name, \"r\")\n",
    "mols = dataset[\"mols\"][:]\n",
    "dataset.close()\n",
    "CHEMBL25_train_smiles = [Chem.MolToSmiles(Chem.Mol(mol)) for mol in mols]"
   ]
  },
  {
   "cell_type": "code",
   "execution_count": 9,
   "metadata": {},
   "outputs": [],
   "source": [
    "# Merge\n",
    "ChEMBL25_SMI = CHEMBL25_test_smiles + CHEMBL25_train_smiles"
   ]
  },
  {
   "cell_type": "code",
   "execution_count": 10,
   "metadata": {},
   "outputs": [
    {
     "output_type": "stream",
     "name": "stdout",
     "text": [
      "The number of CHEMBL25 test smiles is 149679\nThe number of CHEMBL25 train smiles is 1347173\nThe number of train + test smiles is 1496852\n"
     ]
    }
   ],
   "source": [
    "# Print information\n",
    "print(\"The number of CHEMBL25 test smiles is {}\".format(len(CHEMBL25_test_smiles)))\n",
    "print(\"The number of CHEMBL25 train smiles is {}\".format(len(CHEMBL25_train_smiles)))\n",
    "print(\"The number of train + test smiles is {}\".format(len(ChEMBL25_SMI)))"
   ]
  },
  {
   "cell_type": "code",
   "execution_count": 14,
   "metadata": {},
   "outputs": [],
   "source": [
    "# Save to json file\n",
    "with open('ChEMBL25_SMI.json', 'w') as f:\n",
    "    json.dump(ChEMBL25_SMI, f)"
   ]
  },
  {
   "cell_type": "code",
   "execution_count": 15,
   "metadata": {},
   "outputs": [
    {
     "output_type": "stream",
     "name": "stdout",
     "text": [
      "The number of selected smis is 100000\n"
     ]
    }
   ],
   "source": [
    "# Randomly select 100,000 as the normal training set of the GAN model\n",
    "import random\n",
    "\n",
    "random.seed(1234)\n",
    "ChEMBL25_SMI_100000 = random.sample(ChEMBL25_SMI, 100000)\n",
    "print(\"The number of selected smis is {}\".format(len(ChEMBL25_SMI_100000)))"
   ]
  },
  {
   "cell_type": "code",
   "execution_count": 16,
   "metadata": {},
   "outputs": [],
   "source": [
    "# Save to json file\n",
    "with open('ChEMBL25_SMI_100000.json', 'w') as f:\n",
    "    json.dump(ChEMBL25_SMI_100000, f)"
   ]
  }
 ]
}