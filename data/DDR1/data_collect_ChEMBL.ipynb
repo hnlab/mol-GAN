{
 "metadata": {
  "language_info": {
   "codemirror_mode": {
    "name": "ipython",
    "version": 3
   },
   "file_extension": ".py",
   "mimetype": "text/x-python",
   "name": "python",
   "nbconvert_exporter": "python",
   "pygments_lexer": "ipython3",
   "version": "3.6.13"
  },
  "orig_nbformat": 2,
  "kernelspec": {
   "name": "python3613jvsc74a57bd043666d1b6e7cd454ec8b51aa605c2403d687ec14a2ab3f5b9fefb78edefef4b3",
   "display_name": "Python 3.6.13 64-bit ('latent_gan_env': conda)"
  }
 },
 "nbformat": 4,
 "nbformat_minor": 2,
 "cells": [
  {
   "source": [
    "# Download Bioactivity Data from ChEMBL"
   ],
   "cell_type": "markdown",
   "metadata": {}
  },
  {
   "cell_type": "code",
   "execution_count": 1,
   "metadata": {},
   "outputs": [],
   "source": [
    "# Import necessary libraries\n",
    "import time\n",
    "import json\n",
    "import numpy as np\n",
    "import pandas as pd\n",
    "from chembl_webresource_client.new_client import new_client"
   ]
  },
  {
   "cell_type": "code",
   "execution_count": 2,
   "metadata": {},
   "outputs": [
    {
     "output_type": "stream",
     "name": "stdout",
     "text": [
      "[('CHEMBL5319', 'Epithelial discoidin domain-containing receptor 1')]\n"
     ]
    }
   ],
   "source": [
    "# DDRI UniProt ID is Q08345\n",
    "uniprot_id = 'Q08345'\n",
    "\n",
    "records = new_client.target.filter(target_components__accession=uniprot_id)\n",
    "print([(x['target_chembl_id'], x['pref_name']) for x in records])"
   ]
  },
  {
   "cell_type": "code",
   "execution_count": 3,
   "metadata": {},
   "outputs": [
    {
     "output_type": "stream",
     "name": "stdout",
     "text": [
      "CHEMBL5319\n"
     ]
    }
   ],
   "source": [
    "selected_target = [(x['target_chembl_id'], x['pref_name']) for x in records][0][0]\n",
    "print(selected_target)"
   ]
  },
  {
   "cell_type": "code",
   "execution_count": 4,
   "metadata": {},
   "outputs": [],
   "source": [
    "activity = new_client.activity\n",
    "res = activity.filter(target_chembl_id=selected_target)"
   ]
  },
  {
   "cell_type": "code",
   "execution_count": 5,
   "metadata": {},
   "outputs": [
    {
     "output_type": "execute_result",
     "data": {
      "text/plain": [
       "    activity_comment  activity_id  \\\n",
       "0               None      2206928   \n",
       "1               None      2470150   \n",
       "2               None      2603060   \n",
       "3             Active      2719535   \n",
       "4               None      2897522   \n",
       "..               ...          ...   \n",
       "868           Active     20142400   \n",
       "869       Not Active     20142867   \n",
       "870             None     20144332   \n",
       "871       Not Active     20144567   \n",
       "872       Not Active     20145036   \n",
       "\n",
       "                                   activity_properties assay_chembl_id  \\\n",
       "0                                                   []    CHEMBL990559   \n",
       "1                                                   []   CHEMBL1034099   \n",
       "2                                                   []   CHEMBL1023855   \n",
       "3                                                   []   CHEMBL1059985   \n",
       "4                                                   []   CHEMBL1050825   \n",
       "..                                                 ...             ...   \n",
       "868  [{'comments': None, 'relation': None, 'result_...   CHEMBL4507441   \n",
       "869  [{'comments': None, 'relation': None, 'result_...   CHEMBL4507441   \n",
       "870  [{'comments': None, 'relation': None, 'result_...   CHEMBL4513005   \n",
       "871  [{'comments': None, 'relation': None, 'result_...   CHEMBL4507441   \n",
       "872  [{'comments': None, 'relation': None, 'result_...   CHEMBL4507441   \n",
       "\n",
       "                             assay_description assay_type  \\\n",
       "0                           Inhibition of DDR1          B   \n",
       "1                   Inhibition of DDR1 at 3 uM          B   \n",
       "2                           Inhibition of DDR1          B   \n",
       "3                  Inhibition of DDR1 at 10 uM          B   \n",
       "4      Binding constant for DDR1 kinase domain          B   \n",
       "..                                         ...        ...   \n",
       "868       KinomeScan assay: inhibition of DDR1          B   \n",
       "869       KinomeScan assay: inhibition of DDR1          B   \n",
       "870  DDR1(DDR1LGF1) Takeda global kinase panel          B   \n",
       "871       KinomeScan assay: inhibition of DDR1          B   \n",
       "872       KinomeScan assay: inhibition of DDR1          B   \n",
       "\n",
       "    assay_variant_accession assay_variant_mutation bao_endpoint   bao_format  \\\n",
       "0                      None                   None  BAO_0000190  BAO_0000357   \n",
       "1                      None                   None  BAO_0000201  BAO_0000357   \n",
       "2                      None                   None  BAO_0000034  BAO_0000357   \n",
       "3                      None                   None  BAO_0000376  BAO_0000357   \n",
       "4                      None                   None  BAO_0000034  BAO_0000357   \n",
       "..                      ...                    ...          ...          ...   \n",
       "868                    None                   None  BAO_0000179  BAO_0000357   \n",
       "869                    None                   None  BAO_0000179  BAO_0000357   \n",
       "870                    None                   None  BAO_0000190  BAO_0000357   \n",
       "871                    None                   None  BAO_0000179  BAO_0000357   \n",
       "872                    None                   None  BAO_0000179  BAO_0000357   \n",
       "\n",
       "     ... target_organism                                   target_pref_name  \\\n",
       "0    ...    Homo sapiens  Epithelial discoidin domain-containing receptor 1   \n",
       "1    ...    Homo sapiens  Epithelial discoidin domain-containing receptor 1   \n",
       "2    ...    Homo sapiens  Epithelial discoidin domain-containing receptor 1   \n",
       "3    ...    Homo sapiens  Epithelial discoidin domain-containing receptor 1   \n",
       "4    ...    Homo sapiens  Epithelial discoidin domain-containing receptor 1   \n",
       "..   ...             ...                                                ...   \n",
       "868  ...    Homo sapiens  Epithelial discoidin domain-containing receptor 1   \n",
       "869  ...    Homo sapiens  Epithelial discoidin domain-containing receptor 1   \n",
       "870  ...    Homo sapiens  Epithelial discoidin domain-containing receptor 1   \n",
       "871  ...    Homo sapiens  Epithelial discoidin domain-containing receptor 1   \n",
       "872  ...    Homo sapiens  Epithelial discoidin domain-containing receptor 1   \n",
       "\n",
       "    target_tax_id text_value  toid       type  units    uo_units upper_value  \\\n",
       "0            9606       None  None       IC50     uM  UO_0000065        None   \n",
       "1            9606       None  None        INH      %  UO_0000187        None   \n",
       "2            9606       None  None         Kd     nM  UO_0000065        None   \n",
       "3            9606       None  None        INH   None        None        None   \n",
       "4            9606       None  None         Kd     uM  UO_0000065        None   \n",
       "..            ...        ...   ...        ...    ...         ...         ...   \n",
       "868          9606       None  None  % Control      %  UO_0000187        None   \n",
       "869          9606       None  None  % Control      %  UO_0000187        None   \n",
       "870          9606       None  None      pIC50   None  UO_0000065        None   \n",
       "871          9606       None  None  % Control      %  UO_0000187        None   \n",
       "872          9606       None  None  % Control      %  UO_0000187        None   \n",
       "\n",
       "    value  \n",
       "0    31.0  \n",
       "1    10.0  \n",
       "2     7.8  \n",
       "3    None  \n",
       "4    10.0  \n",
       "..    ...  \n",
       "868   0.1  \n",
       "869  89.0  \n",
       "870   6.0  \n",
       "871  85.0  \n",
       "872  86.0  \n",
       "\n",
       "[871 rows x 45 columns]"
      ],
      "text/html": "<div>\n<style scoped>\n    .dataframe tbody tr th:only-of-type {\n        vertical-align: middle;\n    }\n\n    .dataframe tbody tr th {\n        vertical-align: top;\n    }\n\n    .dataframe thead th {\n        text-align: right;\n    }\n</style>\n<table border=\"1\" class=\"dataframe\">\n  <thead>\n    <tr style=\"text-align: right;\">\n      <th></th>\n      <th>activity_comment</th>\n      <th>activity_id</th>\n      <th>activity_properties</th>\n      <th>assay_chembl_id</th>\n      <th>assay_description</th>\n      <th>assay_type</th>\n      <th>assay_variant_accession</th>\n      <th>assay_variant_mutation</th>\n      <th>bao_endpoint</th>\n      <th>bao_format</th>\n      <th>...</th>\n      <th>target_organism</th>\n      <th>target_pref_name</th>\n      <th>target_tax_id</th>\n      <th>text_value</th>\n      <th>toid</th>\n      <th>type</th>\n      <th>units</th>\n      <th>uo_units</th>\n      <th>upper_value</th>\n      <th>value</th>\n    </tr>\n  </thead>\n  <tbody>\n    <tr>\n      <th>0</th>\n      <td>None</td>\n      <td>2206928</td>\n      <td>[]</td>\n      <td>CHEMBL990559</td>\n      <td>Inhibition of DDR1</td>\n      <td>B</td>\n      <td>None</td>\n      <td>None</td>\n      <td>BAO_0000190</td>\n      <td>BAO_0000357</td>\n      <td>...</td>\n      <td>Homo sapiens</td>\n      <td>Epithelial discoidin domain-containing receptor 1</td>\n      <td>9606</td>\n      <td>None</td>\n      <td>None</td>\n      <td>IC50</td>\n      <td>uM</td>\n      <td>UO_0000065</td>\n      <td>None</td>\n      <td>31.0</td>\n    </tr>\n    <tr>\n      <th>1</th>\n      <td>None</td>\n      <td>2470150</td>\n      <td>[]</td>\n      <td>CHEMBL1034099</td>\n      <td>Inhibition of DDR1 at 3 uM</td>\n      <td>B</td>\n      <td>None</td>\n      <td>None</td>\n      <td>BAO_0000201</td>\n      <td>BAO_0000357</td>\n      <td>...</td>\n      <td>Homo sapiens</td>\n      <td>Epithelial discoidin domain-containing receptor 1</td>\n      <td>9606</td>\n      <td>None</td>\n      <td>None</td>\n      <td>INH</td>\n      <td>%</td>\n      <td>UO_0000187</td>\n      <td>None</td>\n      <td>10.0</td>\n    </tr>\n    <tr>\n      <th>2</th>\n      <td>None</td>\n      <td>2603060</td>\n      <td>[]</td>\n      <td>CHEMBL1023855</td>\n      <td>Inhibition of DDR1</td>\n      <td>B</td>\n      <td>None</td>\n      <td>None</td>\n      <td>BAO_0000034</td>\n      <td>BAO_0000357</td>\n      <td>...</td>\n      <td>Homo sapiens</td>\n      <td>Epithelial discoidin domain-containing receptor 1</td>\n      <td>9606</td>\n      <td>None</td>\n      <td>None</td>\n      <td>Kd</td>\n      <td>nM</td>\n      <td>UO_0000065</td>\n      <td>None</td>\n      <td>7.8</td>\n    </tr>\n    <tr>\n      <th>3</th>\n      <td>Active</td>\n      <td>2719535</td>\n      <td>[]</td>\n      <td>CHEMBL1059985</td>\n      <td>Inhibition of DDR1 at 10 uM</td>\n      <td>B</td>\n      <td>None</td>\n      <td>None</td>\n      <td>BAO_0000376</td>\n      <td>BAO_0000357</td>\n      <td>...</td>\n      <td>Homo sapiens</td>\n      <td>Epithelial discoidin domain-containing receptor 1</td>\n      <td>9606</td>\n      <td>None</td>\n      <td>None</td>\n      <td>INH</td>\n      <td>None</td>\n      <td>None</td>\n      <td>None</td>\n      <td>None</td>\n    </tr>\n    <tr>\n      <th>4</th>\n      <td>None</td>\n      <td>2897522</td>\n      <td>[]</td>\n      <td>CHEMBL1050825</td>\n      <td>Binding constant for DDR1 kinase domain</td>\n      <td>B</td>\n      <td>None</td>\n      <td>None</td>\n      <td>BAO_0000034</td>\n      <td>BAO_0000357</td>\n      <td>...</td>\n      <td>Homo sapiens</td>\n      <td>Epithelial discoidin domain-containing receptor 1</td>\n      <td>9606</td>\n      <td>None</td>\n      <td>None</td>\n      <td>Kd</td>\n      <td>uM</td>\n      <td>UO_0000065</td>\n      <td>None</td>\n      <td>10.0</td>\n    </tr>\n    <tr>\n      <th>...</th>\n      <td>...</td>\n      <td>...</td>\n      <td>...</td>\n      <td>...</td>\n      <td>...</td>\n      <td>...</td>\n      <td>...</td>\n      <td>...</td>\n      <td>...</td>\n      <td>...</td>\n      <td>...</td>\n      <td>...</td>\n      <td>...</td>\n      <td>...</td>\n      <td>...</td>\n      <td>...</td>\n      <td>...</td>\n      <td>...</td>\n      <td>...</td>\n      <td>...</td>\n      <td>...</td>\n    </tr>\n    <tr>\n      <th>868</th>\n      <td>Active</td>\n      <td>20142400</td>\n      <td>[{'comments': None, 'relation': None, 'result_...</td>\n      <td>CHEMBL4507441</td>\n      <td>KinomeScan assay: inhibition of DDR1</td>\n      <td>B</td>\n      <td>None</td>\n      <td>None</td>\n      <td>BAO_0000179</td>\n      <td>BAO_0000357</td>\n      <td>...</td>\n      <td>Homo sapiens</td>\n      <td>Epithelial discoidin domain-containing receptor 1</td>\n      <td>9606</td>\n      <td>None</td>\n      <td>None</td>\n      <td>% Control</td>\n      <td>%</td>\n      <td>UO_0000187</td>\n      <td>None</td>\n      <td>0.1</td>\n    </tr>\n    <tr>\n      <th>869</th>\n      <td>Not Active</td>\n      <td>20142867</td>\n      <td>[{'comments': None, 'relation': None, 'result_...</td>\n      <td>CHEMBL4507441</td>\n      <td>KinomeScan assay: inhibition of DDR1</td>\n      <td>B</td>\n      <td>None</td>\n      <td>None</td>\n      <td>BAO_0000179</td>\n      <td>BAO_0000357</td>\n      <td>...</td>\n      <td>Homo sapiens</td>\n      <td>Epithelial discoidin domain-containing receptor 1</td>\n      <td>9606</td>\n      <td>None</td>\n      <td>None</td>\n      <td>% Control</td>\n      <td>%</td>\n      <td>UO_0000187</td>\n      <td>None</td>\n      <td>89.0</td>\n    </tr>\n    <tr>\n      <th>870</th>\n      <td>None</td>\n      <td>20144332</td>\n      <td>[{'comments': None, 'relation': None, 'result_...</td>\n      <td>CHEMBL4513005</td>\n      <td>DDR1(DDR1LGF1) Takeda global kinase panel</td>\n      <td>B</td>\n      <td>None</td>\n      <td>None</td>\n      <td>BAO_0000190</td>\n      <td>BAO_0000357</td>\n      <td>...</td>\n      <td>Homo sapiens</td>\n      <td>Epithelial discoidin domain-containing receptor 1</td>\n      <td>9606</td>\n      <td>None</td>\n      <td>None</td>\n      <td>pIC50</td>\n      <td>None</td>\n      <td>UO_0000065</td>\n      <td>None</td>\n      <td>6.0</td>\n    </tr>\n    <tr>\n      <th>871</th>\n      <td>Not Active</td>\n      <td>20144567</td>\n      <td>[{'comments': None, 'relation': None, 'result_...</td>\n      <td>CHEMBL4507441</td>\n      <td>KinomeScan assay: inhibition of DDR1</td>\n      <td>B</td>\n      <td>None</td>\n      <td>None</td>\n      <td>BAO_0000179</td>\n      <td>BAO_0000357</td>\n      <td>...</td>\n      <td>Homo sapiens</td>\n      <td>Epithelial discoidin domain-containing receptor 1</td>\n      <td>9606</td>\n      <td>None</td>\n      <td>None</td>\n      <td>% Control</td>\n      <td>%</td>\n      <td>UO_0000187</td>\n      <td>None</td>\n      <td>85.0</td>\n    </tr>\n    <tr>\n      <th>872</th>\n      <td>Not Active</td>\n      <td>20145036</td>\n      <td>[{'comments': None, 'relation': None, 'result_...</td>\n      <td>CHEMBL4507441</td>\n      <td>KinomeScan assay: inhibition of DDR1</td>\n      <td>B</td>\n      <td>None</td>\n      <td>None</td>\n      <td>BAO_0000179</td>\n      <td>BAO_0000357</td>\n      <td>...</td>\n      <td>Homo sapiens</td>\n      <td>Epithelial discoidin domain-containing receptor 1</td>\n      <td>9606</td>\n      <td>None</td>\n      <td>None</td>\n      <td>% Control</td>\n      <td>%</td>\n      <td>UO_0000187</td>\n      <td>None</td>\n      <td>86.0</td>\n    </tr>\n  </tbody>\n</table>\n<p>871 rows × 45 columns</p>\n</div>"
     },
     "metadata": {},
     "execution_count": 5
    }
   ],
   "source": [
    "df = pd.DataFrame.from_dict(res)\n",
    "selection = ['canonical_smiles']\n",
    "df2 = df[df.canonical_smiles.notna()]\n",
    "df2"
   ]
  },
  {
   "cell_type": "code",
   "execution_count": 6,
   "metadata": {},
   "outputs": [],
   "source": [
    "DDR1_smi = df2['canonical_smiles'].to_list()"
   ]
  },
  {
   "cell_type": "code",
   "execution_count": 7,
   "metadata": {},
   "outputs": [],
   "source": [
    "with open('DDR1_active_smi_ChEMBL.json', 'w') as f:\n",
    "    json.dump(DDR1_smi, f)"
   ]
  }
 ]
}