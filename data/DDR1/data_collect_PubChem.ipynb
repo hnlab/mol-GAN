{
 "cells": [
  {
   "cell_type": "markdown",
   "metadata": {},
   "source": [
    "# Data mining from PubChem "
   ]
  },
  {
   "cell_type": "code",
   "execution_count": 14,
   "metadata": {},
   "outputs": [],
   "source": [
    "import json\n",
    "import numpy as np\n",
    "import pandas as pd"
   ]
  },
  {
   "cell_type": "code",
   "execution_count": null,
   "metadata": {},
   "outputs": [],
   "source": [
    "import os \r\n",
    "import sys\r\n",
    "import time\r\n",
    "import json\r\n",
    "\r\n",
    "import os, shutil\r\n",
    "import numpy as np\r\n",
    "import pandas as pd\r\n",
    "from Bio import SeqIO\r\n",
    "from Bio.Seq import Seq\r\n",
    "from Bio.Blast import NCBIWWW\r\n",
    "from Bio.Blast import NCBIXML\r\n",
    "from Bio.PDB import *\r\n",
    "from biopandas.pdb import PandasPdb\r\n",
    "from Bio import ExPASy"
   ]
  },
  {
   "cell_type": "code",
   "execution_count": 15,
   "metadata": {},
   "outputs": [],
   "source": [
    "# Timing function\n",
    "def task_begin():\n",
    "    import time\n",
    "    since = time.time()\n",
    "    print('The task is being executed...\\n----------\\n')\n",
    "    return since\n",
    "\n",
    "def task_done(since):\n",
    "    import time\n",
    "    print('\\n----------\\nThe task has been done.')\n",
    "    time_elapsed = time.time() - since\n",
    "    print('Time cost {:.0f}m {:.0f}s'.format(time_elapsed // 60, time_elapsed % 60))"
   ]
  },
  {
   "cell_type": "code",
   "execution_count": 16,
   "metadata": {},
   "outputs": [],
   "source": [
    "# the web address of Tested Compounds in PubChem\n",
    "link = 'https://pubchem.ncbi.nlm.nih.gov/sdq/cgi2rcgi.cgi?infmt=json&outfmt=csv&query={%22download%22:%22*%22,%22collection%22:%22bioactivity%22,%22where%22:{%22ands%22:[{%22protacxn%22:%22notnull%22},{%22cid%22:%22notnull%22},{%22repacxn%22:%22ProID%22}]},%22order%22:[%22acvalue,asc%22],%22start%22:1,%22limit%22:10000000,%22downloadfilename%22:%22PROTACXN_ProID_bioactivity_protein%22}'"
   ]
  },
  {
   "cell_type": "code",
   "execution_count": 17,
   "metadata": {},
   "outputs": [],
   "source": [
    "# DDR1 UniProt ID is Q08345\n",
    "pro_id = 'Q08345'\n",
    "link1 = link.replace('ProID', pro_id)"
   ]
  },
  {
   "cell_type": "code",
   "execution_count": 18,
   "metadata": {},
   "outputs": [
    {
     "output_type": "stream",
     "name": "stdout",
     "text": [
      "The task is being executed...\n",
      "----------\n",
      "\n",
      "The test compounds of Q08345 has been saved as Q08345_Tested_Compounds.csv.\n",
      "\n",
      "----------\n",
      "The task has been done.\n",
      "Time cost 0m 8s\n"
     ]
    }
   ],
   "source": [
    "since = task_begin()\n",
    "\n",
    "for i in range(2):\n",
    "    try:\n",
    "        data = pd.read_csv(link1)\n",
    "        data.to_csv(pro_id + '_Tested_Compounds_PubChem.csv', index=False)\n",
    "        print(f'The test compounds of {pro_id} has been saved as {pro_id}_Tested_Compounds.csv.')\n",
    "        break\n",
    "    except Exception as a:\n",
    "        print(str(a)+\" is the error , Trying {} time\".format(i))\n",
    "        continue\n",
    "    else:\n",
    "        break\n",
    "else:\n",
    "    print(\"something Wrong , Try running Again [refer error code for more]\")\n",
    "    \n",
    "task_done(since)"
   ]
  },
  {
   "cell_type": "code",
   "execution_count": 19,
   "metadata": {
    "scrolled": true,
    "tags": []
   },
   "outputs": [],
   "source": [
    "testedCompound = pd.read_csv(pro_id + \"_Tested_Compounds_PubChem.csv\", error_bad_lines=False)"
   ]
  },
  {
   "cell_type": "code",
   "execution_count": 20,
   "metadata": {},
   "outputs": [
    {
     "output_type": "execute_result",
     "data": {
      "text/plain": [
       "           baid  acvalue      aid        sid        cid  geneid        pmid  \\\n",
       "0      70868681      NaN     1982   48409448    2858522     780         NaN   \n",
       "1      70869002      NaN     1982   48409448    2858522     780         NaN   \n",
       "2      70869323      NaN     1982   48409448    2858522     780         NaN   \n",
       "3      70869644      NaN     1982   48409448    2858522     780         NaN   \n",
       "4      70869965      NaN     1982   48409448    2858522     780         NaN   \n",
       "...         ...      ...      ...        ...        ...     ...         ...   \n",
       "3838  467869769   66.000  1347183  354327400  117920477     780         NaN   \n",
       "3839  468973025   71.484  1424972  160678787   46216796     780  29191878.0   \n",
       "3840  450588714  100.000  1242618  242115264    4426513     780  26191369.0   \n",
       "3841  467869483  119.000  1347183  354328551  132274453     780         NaN   \n",
       "3842  467869472  140.000  1347183  354328552  132274454     780         NaN   \n",
       "\n",
       "                 aidtype  aidmdate  hasdrc  ...       acname acqualifier  \\\n",
       "0                  Other  20110103       0  ...          NaN         NaN   \n",
       "1                  Other  20110103       0  ...          NaN         NaN   \n",
       "2                  Other  20110103       0  ...          NaN         NaN   \n",
       "3                  Other  20110103       0  ...          NaN         NaN   \n",
       "4                  Other  20110103       0  ...          NaN         NaN   \n",
       "...                  ...       ...     ...  ...          ...         ...   \n",
       "3838  Literature-derived  20191216       0  ...         IC50         NaN   \n",
       "3839        Confirmatory  20200620       0  ...  Kd apparent           =   \n",
       "3840        Confirmatory  20181009       0  ...         IC50           >   \n",
       "3841  Literature-derived  20191216       0  ...         IC50         NaN   \n",
       "3842  Literature-derived  20191216       0  ...         IC50         NaN   \n",
       "\n",
       "                                aidsrcname  \\\n",
       "0     Burnham Center for Chemical Genomics   \n",
       "1     Burnham Center for Chemical Genomics   \n",
       "2     Burnham Center for Chemical Genomics   \n",
       "3     Burnham Center for Chemical Genomics   \n",
       "4     Burnham Center for Chemical Genomics   \n",
       "...                                    ...   \n",
       "3838                             BindingDB   \n",
       "3839                                ChEMBL   \n",
       "3840                                ChEMBL   \n",
       "3841                             BindingDB   \n",
       "3842                             BindingDB   \n",
       "\n",
       "                                                aidname  \\\n",
       "0     Kinase inhibition selectivity assay for compou...   \n",
       "1     Kinase inhibition selectivity assay for compou...   \n",
       "2     Kinase inhibition selectivity assay for compou...   \n",
       "3     Kinase inhibition selectivity assay for compou...   \n",
       "4     Kinase inhibition selectivity assay for compou...   \n",
       "...                                                 ...   \n",
       "3838  LanthaScreen Eu Kinase Binding Assay in Benzam...   \n",
       "3839  Kinobeads (epsilon), multiple immobilized ATP-...   \n",
       "3840  Inhibition of DDR1 (unknown origin) after 1 hr...   \n",
       "3841  LanthaScreen Eu Kinase Binding Assay in Benzam...   \n",
       "3842  LanthaScreen Eu Kinase Binding Assay in Benzam...   \n",
       "\n",
       "                                               cmpdname  \\\n",
       "0     1-(3,5-Ditert-butyl-4-hydroxyphenyl)-2-[2-(3-h...   \n",
       "1     1-(3,5-Ditert-butyl-4-hydroxyphenyl)-2-[2-(3-h...   \n",
       "2     1-(3,5-Ditert-butyl-4-hydroxyphenyl)-2-[2-(3-h...   \n",
       "3     1-(3,5-Ditert-butyl-4-hydroxyphenyl)-2-[2-(3-h...   \n",
       "4     1-(3,5-Ditert-butyl-4-hydroxyphenyl)-2-[2-(3-h...   \n",
       "...                                                 ...   \n",
       "3838             CSc1ccc(F)cc1CNC(=O)c1cccc(c1)C(F)(F)F   \n",
       "3839                                         Pacritinib   \n",
       "3840      1-(2-Chlorophenyl)-3-(pyridin-3-ylmethyl)urea   \n",
       "3841  N'-(5-Chloro-2-ethylsulfonylphenyl)-2-methyl-6...   \n",
       "3842  N-[(5-Chloro-2-ethylsulfonylphenyl)methyl]-6-o...   \n",
       "\n",
       "                                             targetname  targeturl       ecs  \\\n",
       "0     DDR1 - discoidin domain receptor tyrosine kina...  /gene/780  2.7.10.1   \n",
       "1     DDR1 - discoidin domain receptor tyrosine kina...  /gene/780  2.7.10.1   \n",
       "2     DDR1 - discoidin domain receptor tyrosine kina...  /gene/780  2.7.10.1   \n",
       "3     DDR1 - discoidin domain receptor tyrosine kina...  /gene/780  2.7.10.1   \n",
       "4     DDR1 - discoidin domain receptor tyrosine kina...  /gene/780  2.7.10.1   \n",
       "...                                                 ...        ...       ...   \n",
       "3838  DDR1 - discoidin domain receptor tyrosine kina...  /gene/780  2.7.10.1   \n",
       "3839  DDR1 - discoidin domain receptor tyrosine kina...  /gene/780  2.7.10.1   \n",
       "3840  DDR1 - discoidin domain receptor tyrosine kina...  /gene/780  2.7.10.1   \n",
       "3841  DDR1 - discoidin domain receptor tyrosine kina...  /gene/780  2.7.10.1   \n",
       "3842  DDR1 - discoidin domain receptor tyrosine kina...  /gene/780  2.7.10.1   \n",
       "\n",
       "     repacxn  taxids  \n",
       "0     Q08345     NaN  \n",
       "1     Q08345     NaN  \n",
       "2     Q08345     NaN  \n",
       "3     Q08345     NaN  \n",
       "4     Q08345     NaN  \n",
       "...      ...     ...  \n",
       "3838  Q08345     NaN  \n",
       "3839  Q08345  9606.0  \n",
       "3840  Q08345  9606.0  \n",
       "3841  Q08345     NaN  \n",
       "3842  Q08345     NaN  \n",
       "\n",
       "[3843 rows x 23 columns]"
      ],
      "text/html": "<div>\n<style scoped>\n    .dataframe tbody tr th:only-of-type {\n        vertical-align: middle;\n    }\n\n    .dataframe tbody tr th {\n        vertical-align: top;\n    }\n\n    .dataframe thead th {\n        text-align: right;\n    }\n</style>\n<table border=\"1\" class=\"dataframe\">\n  <thead>\n    <tr style=\"text-align: right;\">\n      <th></th>\n      <th>baid</th>\n      <th>acvalue</th>\n      <th>aid</th>\n      <th>sid</th>\n      <th>cid</th>\n      <th>geneid</th>\n      <th>pmid</th>\n      <th>aidtype</th>\n      <th>aidmdate</th>\n      <th>hasdrc</th>\n      <th>...</th>\n      <th>acname</th>\n      <th>acqualifier</th>\n      <th>aidsrcname</th>\n      <th>aidname</th>\n      <th>cmpdname</th>\n      <th>targetname</th>\n      <th>targeturl</th>\n      <th>ecs</th>\n      <th>repacxn</th>\n      <th>taxids</th>\n    </tr>\n  </thead>\n  <tbody>\n    <tr>\n      <th>0</th>\n      <td>70868681</td>\n      <td>NaN</td>\n      <td>1982</td>\n      <td>48409448</td>\n      <td>2858522</td>\n      <td>780</td>\n      <td>NaN</td>\n      <td>Other</td>\n      <td>20110103</td>\n      <td>0</td>\n      <td>...</td>\n      <td>NaN</td>\n      <td>NaN</td>\n      <td>Burnham Center for Chemical Genomics</td>\n      <td>Kinase inhibition selectivity assay for compou...</td>\n      <td>1-(3,5-Ditert-butyl-4-hydroxyphenyl)-2-[2-(3-h...</td>\n      <td>DDR1 - discoidin domain receptor tyrosine kina...</td>\n      <td>/gene/780</td>\n      <td>2.7.10.1</td>\n      <td>Q08345</td>\n      <td>NaN</td>\n    </tr>\n    <tr>\n      <th>1</th>\n      <td>70869002</td>\n      <td>NaN</td>\n      <td>1982</td>\n      <td>48409448</td>\n      <td>2858522</td>\n      <td>780</td>\n      <td>NaN</td>\n      <td>Other</td>\n      <td>20110103</td>\n      <td>0</td>\n      <td>...</td>\n      <td>NaN</td>\n      <td>NaN</td>\n      <td>Burnham Center for Chemical Genomics</td>\n      <td>Kinase inhibition selectivity assay for compou...</td>\n      <td>1-(3,5-Ditert-butyl-4-hydroxyphenyl)-2-[2-(3-h...</td>\n      <td>DDR1 - discoidin domain receptor tyrosine kina...</td>\n      <td>/gene/780</td>\n      <td>2.7.10.1</td>\n      <td>Q08345</td>\n      <td>NaN</td>\n    </tr>\n    <tr>\n      <th>2</th>\n      <td>70869323</td>\n      <td>NaN</td>\n      <td>1982</td>\n      <td>48409448</td>\n      <td>2858522</td>\n      <td>780</td>\n      <td>NaN</td>\n      <td>Other</td>\n      <td>20110103</td>\n      <td>0</td>\n      <td>...</td>\n      <td>NaN</td>\n      <td>NaN</td>\n      <td>Burnham Center for Chemical Genomics</td>\n      <td>Kinase inhibition selectivity assay for compou...</td>\n      <td>1-(3,5-Ditert-butyl-4-hydroxyphenyl)-2-[2-(3-h...</td>\n      <td>DDR1 - discoidin domain receptor tyrosine kina...</td>\n      <td>/gene/780</td>\n      <td>2.7.10.1</td>\n      <td>Q08345</td>\n      <td>NaN</td>\n    </tr>\n    <tr>\n      <th>3</th>\n      <td>70869644</td>\n      <td>NaN</td>\n      <td>1982</td>\n      <td>48409448</td>\n      <td>2858522</td>\n      <td>780</td>\n      <td>NaN</td>\n      <td>Other</td>\n      <td>20110103</td>\n      <td>0</td>\n      <td>...</td>\n      <td>NaN</td>\n      <td>NaN</td>\n      <td>Burnham Center for Chemical Genomics</td>\n      <td>Kinase inhibition selectivity assay for compou...</td>\n      <td>1-(3,5-Ditert-butyl-4-hydroxyphenyl)-2-[2-(3-h...</td>\n      <td>DDR1 - discoidin domain receptor tyrosine kina...</td>\n      <td>/gene/780</td>\n      <td>2.7.10.1</td>\n      <td>Q08345</td>\n      <td>NaN</td>\n    </tr>\n    <tr>\n      <th>4</th>\n      <td>70869965</td>\n      <td>NaN</td>\n      <td>1982</td>\n      <td>48409448</td>\n      <td>2858522</td>\n      <td>780</td>\n      <td>NaN</td>\n      <td>Other</td>\n      <td>20110103</td>\n      <td>0</td>\n      <td>...</td>\n      <td>NaN</td>\n      <td>NaN</td>\n      <td>Burnham Center for Chemical Genomics</td>\n      <td>Kinase inhibition selectivity assay for compou...</td>\n      <td>1-(3,5-Ditert-butyl-4-hydroxyphenyl)-2-[2-(3-h...</td>\n      <td>DDR1 - discoidin domain receptor tyrosine kina...</td>\n      <td>/gene/780</td>\n      <td>2.7.10.1</td>\n      <td>Q08345</td>\n      <td>NaN</td>\n    </tr>\n    <tr>\n      <th>...</th>\n      <td>...</td>\n      <td>...</td>\n      <td>...</td>\n      <td>...</td>\n      <td>...</td>\n      <td>...</td>\n      <td>...</td>\n      <td>...</td>\n      <td>...</td>\n      <td>...</td>\n      <td>...</td>\n      <td>...</td>\n      <td>...</td>\n      <td>...</td>\n      <td>...</td>\n      <td>...</td>\n      <td>...</td>\n      <td>...</td>\n      <td>...</td>\n      <td>...</td>\n      <td>...</td>\n    </tr>\n    <tr>\n      <th>3838</th>\n      <td>467869769</td>\n      <td>66.000</td>\n      <td>1347183</td>\n      <td>354327400</td>\n      <td>117920477</td>\n      <td>780</td>\n      <td>NaN</td>\n      <td>Literature-derived</td>\n      <td>20191216</td>\n      <td>0</td>\n      <td>...</td>\n      <td>IC50</td>\n      <td>NaN</td>\n      <td>BindingDB</td>\n      <td>LanthaScreen Eu Kinase Binding Assay in Benzam...</td>\n      <td>CSc1ccc(F)cc1CNC(=O)c1cccc(c1)C(F)(F)F</td>\n      <td>DDR1 - discoidin domain receptor tyrosine kina...</td>\n      <td>/gene/780</td>\n      <td>2.7.10.1</td>\n      <td>Q08345</td>\n      <td>NaN</td>\n    </tr>\n    <tr>\n      <th>3839</th>\n      <td>468973025</td>\n      <td>71.484</td>\n      <td>1424972</td>\n      <td>160678787</td>\n      <td>46216796</td>\n      <td>780</td>\n      <td>29191878.0</td>\n      <td>Confirmatory</td>\n      <td>20200620</td>\n      <td>0</td>\n      <td>...</td>\n      <td>Kd apparent</td>\n      <td>=</td>\n      <td>ChEMBL</td>\n      <td>Kinobeads (epsilon), multiple immobilized ATP-...</td>\n      <td>Pacritinib</td>\n      <td>DDR1 - discoidin domain receptor tyrosine kina...</td>\n      <td>/gene/780</td>\n      <td>2.7.10.1</td>\n      <td>Q08345</td>\n      <td>9606.0</td>\n    </tr>\n    <tr>\n      <th>3840</th>\n      <td>450588714</td>\n      <td>100.000</td>\n      <td>1242618</td>\n      <td>242115264</td>\n      <td>4426513</td>\n      <td>780</td>\n      <td>26191369.0</td>\n      <td>Confirmatory</td>\n      <td>20181009</td>\n      <td>0</td>\n      <td>...</td>\n      <td>IC50</td>\n      <td>&gt;</td>\n      <td>ChEMBL</td>\n      <td>Inhibition of DDR1 (unknown origin) after 1 hr...</td>\n      <td>1-(2-Chlorophenyl)-3-(pyridin-3-ylmethyl)urea</td>\n      <td>DDR1 - discoidin domain receptor tyrosine kina...</td>\n      <td>/gene/780</td>\n      <td>2.7.10.1</td>\n      <td>Q08345</td>\n      <td>9606.0</td>\n    </tr>\n    <tr>\n      <th>3841</th>\n      <td>467869483</td>\n      <td>119.000</td>\n      <td>1347183</td>\n      <td>354328551</td>\n      <td>132274453</td>\n      <td>780</td>\n      <td>NaN</td>\n      <td>Literature-derived</td>\n      <td>20191216</td>\n      <td>0</td>\n      <td>...</td>\n      <td>IC50</td>\n      <td>NaN</td>\n      <td>BindingDB</td>\n      <td>LanthaScreen Eu Kinase Binding Assay in Benzam...</td>\n      <td>N'-(5-Chloro-2-ethylsulfonylphenyl)-2-methyl-6...</td>\n      <td>DDR1 - discoidin domain receptor tyrosine kina...</td>\n      <td>/gene/780</td>\n      <td>2.7.10.1</td>\n      <td>Q08345</td>\n      <td>NaN</td>\n    </tr>\n    <tr>\n      <th>3842</th>\n      <td>467869472</td>\n      <td>140.000</td>\n      <td>1347183</td>\n      <td>354328552</td>\n      <td>132274454</td>\n      <td>780</td>\n      <td>NaN</td>\n      <td>Literature-derived</td>\n      <td>20191216</td>\n      <td>0</td>\n      <td>...</td>\n      <td>IC50</td>\n      <td>NaN</td>\n      <td>BindingDB</td>\n      <td>LanthaScreen Eu Kinase Binding Assay in Benzam...</td>\n      <td>N-[(5-Chloro-2-ethylsulfonylphenyl)methyl]-6-o...</td>\n      <td>DDR1 - discoidin domain receptor tyrosine kina...</td>\n      <td>/gene/780</td>\n      <td>2.7.10.1</td>\n      <td>Q08345</td>\n      <td>NaN</td>\n    </tr>\n  </tbody>\n</table>\n<p>3843 rows × 23 columns</p>\n</div>"
     },
     "metadata": {},
     "execution_count": 20
    }
   ],
   "source": [
    "testedCompound"
   ]
  },
  {
   "cell_type": "code",
   "execution_count": 21,
   "metadata": {
    "scrolled": true,
    "tags": []
   },
   "outputs": [
    {
     "output_type": "stream",
     "name": "stdout",
     "text": [
      "There are 3843 compounds in all.\n"
     ]
    },
    {
     "output_type": "execute_result",
     "data": {
      "text/plain": [
       "            cid     activity\n",
       "0       2858522     Inactive\n",
       "1       2858522     Inactive\n",
       "2       2858522     Inactive\n",
       "3       2858522     Inactive\n",
       "4       2858522     Inactive\n",
       "...         ...          ...\n",
       "3838  117920477       Active\n",
       "3839   46216796       Active\n",
       "3840    4426513  Unspecified\n",
       "3841  132274453       Active\n",
       "3842  132274454       Active\n",
       "\n",
       "[3843 rows x 2 columns]"
      ],
      "text/html": "<div>\n<style scoped>\n    .dataframe tbody tr th:only-of-type {\n        vertical-align: middle;\n    }\n\n    .dataframe tbody tr th {\n        vertical-align: top;\n    }\n\n    .dataframe thead th {\n        text-align: right;\n    }\n</style>\n<table border=\"1\" class=\"dataframe\">\n  <thead>\n    <tr style=\"text-align: right;\">\n      <th></th>\n      <th>cid</th>\n      <th>activity</th>\n    </tr>\n  </thead>\n  <tbody>\n    <tr>\n      <th>0</th>\n      <td>2858522</td>\n      <td>Inactive</td>\n    </tr>\n    <tr>\n      <th>1</th>\n      <td>2858522</td>\n      <td>Inactive</td>\n    </tr>\n    <tr>\n      <th>2</th>\n      <td>2858522</td>\n      <td>Inactive</td>\n    </tr>\n    <tr>\n      <th>3</th>\n      <td>2858522</td>\n      <td>Inactive</td>\n    </tr>\n    <tr>\n      <th>4</th>\n      <td>2858522</td>\n      <td>Inactive</td>\n    </tr>\n    <tr>\n      <th>...</th>\n      <td>...</td>\n      <td>...</td>\n    </tr>\n    <tr>\n      <th>3838</th>\n      <td>117920477</td>\n      <td>Active</td>\n    </tr>\n    <tr>\n      <th>3839</th>\n      <td>46216796</td>\n      <td>Active</td>\n    </tr>\n    <tr>\n      <th>3840</th>\n      <td>4426513</td>\n      <td>Unspecified</td>\n    </tr>\n    <tr>\n      <th>3841</th>\n      <td>132274453</td>\n      <td>Active</td>\n    </tr>\n    <tr>\n      <th>3842</th>\n      <td>132274454</td>\n      <td>Active</td>\n    </tr>\n  </tbody>\n</table>\n<p>3843 rows × 2 columns</p>\n</div>"
     },
     "metadata": {},
     "execution_count": 21
    }
   ],
   "source": [
    "#data cleaning up\n",
    "key_data = testedCompound[['cid','activity']] # get 'compound CID' and 'activity'\n",
    "key_data = key_data.dropna() # remove null items\n",
    "key_data.reset_index(drop=True, inplace=True)\n",
    "print(f'There are {len(key_data)} compounds in all.')\n",
    "key_data"
   ]
  },
  {
   "cell_type": "code",
   "execution_count": 22,
   "metadata": {},
   "outputs": [
    {
     "output_type": "stream",
     "name": "stdout",
     "text": [
      "652\n"
     ]
    }
   ],
   "source": [
    "# Select the cid with \"Activity\" activity and use set to reduce weight\n",
    "cid_active = list(set(key_data[key_data.activity == 'Active'].cid.to_list()))\n",
    "print(len(cid_active))"
   ]
  },
  {
   "cell_type": "code",
   "execution_count": 23,
   "metadata": {},
   "outputs": [],
   "source": [
    "import pubchempy as pcp\n",
    "\n",
    "def get_smiles(cid):\n",
    "    c = pcp.Compound.from_cid(cid)\n",
    "    return c.canonical_smiles"
   ]
  },
  {
   "cell_type": "code",
   "execution_count": 24,
   "metadata": {},
   "outputs": [
    {
     "output_type": "stream",
     "name": "stdout",
     "text": [
      "The task is being executed...\n",
      "----------\n",
      "\n",
      "\n",
      "----------\n",
      "The task has been done.\n",
      "Time cost 17m 20s\n"
     ]
    }
   ],
   "source": [
    "since = task_begin()\n",
    "\n",
    "DDR1_smis = list(map(get_smiles, cid_active))\n",
    "    \n",
    "task_done(since)"
   ]
  },
  {
   "cell_type": "code",
   "execution_count": 25,
   "metadata": {},
   "outputs": [],
   "source": [
    "with open('DDR1_active_smi_PubChem.json', 'w') as f:\n",
    "    json.dump(DDR1_smis, f)"
   ]
  }
 ],
 "metadata": {
  "kernelspec": {
   "name": "python3613jvsc74a57bd043666d1b6e7cd454ec8b51aa605c2403d687ec14a2ab3f5b9fefb78edefef4b3",
   "display_name": "Python 3.6.13 64-bit ('latent_gan_env': conda)"
  },
  "language_info": {
   "codemirror_mode": {
    "name": "ipython",
    "version": 3
   },
   "file_extension": ".py",
   "mimetype": "text/x-python",
   "name": "python",
   "nbconvert_exporter": "python",
   "pygments_lexer": "ipython3",
   "version": "3.6.13"
  }
 },
 "nbformat": 4,
 "nbformat_minor": 4
}