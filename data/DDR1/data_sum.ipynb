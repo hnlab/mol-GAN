{
 "metadata": {
  "language_info": {
   "codemirror_mode": {
    "name": "ipython",
    "version": 3
   },
   "file_extension": ".py",
   "mimetype": "text/x-python",
   "name": "python",
   "nbconvert_exporter": "python",
   "pygments_lexer": "ipython3",
   "version": "3.6.13"
  },
  "orig_nbformat": 2,
  "kernelspec": {
   "name": "python3613jvsc74a57bd043666d1b6e7cd454ec8b51aa605c2403d687ec14a2ab3f5b9fefb78edefef4b3",
   "display_name": "Python 3.6.13 64-bit ('latent_gan_env': conda)"
  }
 },
 "nbformat": 4,
 "nbformat_minor": 2,
 "cells": [
  {
   "cell_type": "code",
   "execution_count": 1,
   "metadata": {},
   "outputs": [],
   "source": [
    "import json\n",
    "import pandas as pd\n",
    "from rdkit import Chem"
   ]
  },
  {
   "cell_type": "code",
   "execution_count": 2,
   "metadata": {},
   "outputs": [
    {
     "output_type": "stream",
     "name": "stdout",
     "text": [
      "DDR1_ChEMBL_smi number: 871\nDDR1_PubChem_smi number: 652\n"
     ]
    }
   ],
   "source": [
    "# Read ChEMBL\n",
    "with open('DDR1_active_smi_ChEMBL.json', 'r') as f:\n",
    "    DDR1_ChEMBL_smi = json.load(f)\n",
    "\n",
    "# Read PubChem\n",
    "with open('DDR1_active_smi_PubChem.json', 'r') as f:\n",
    "    DDR1_PubChem_smi = json.load(f)\n",
    "\n",
    "print('DDR1_ChEMBL_smi number: {}'.format(len(DDR1_ChEMBL_smi)))\n",
    "print('DDR1_PubChem_smi number: {}'.format(len(DDR1_PubChem_smi)))"
   ]
  },
  {
   "cell_type": "code",
   "execution_count": 5,
   "metadata": {},
   "outputs": [
    {
     "output_type": "stream",
     "name": "stdout",
     "text": [
      "871\n652\n"
     ]
    }
   ],
   "source": [
    "smiles_chembl = [Chem.MolToSmiles((Chem.MolFromSmiles(smi))) for smi in DDR1_ChEMBL_smi]\n",
    "print(len(smiles_chembl))\n",
    "\n",
    "smiles_pubchem = [Chem.MolToSmiles((Chem.MolFromSmiles(smi))) for smi in DDR1_PubChem_smi]\n",
    "print(len(smiles_pubchem))"
   ]
  },
  {
   "cell_type": "code",
   "execution_count": 6,
   "metadata": {},
   "outputs": [
    {
     "output_type": "execute_result",
     "data": {
      "text/plain": [
       "1056"
      ]
     },
     "metadata": {},
     "execution_count": 6
    }
   ],
   "source": [
    "data_set = list(set(list(smiles_chembl) + list(smiles_pubchem)))\n",
    "len(data_set)"
   ]
  },
  {
   "cell_type": "code",
   "execution_count": 7,
   "metadata": {},
   "outputs": [],
   "source": [
    "with open('DDR1_active_smi.json', 'w') as f:\n",
    "    json.dump(data_set, f)"
   ]
  }
 ]
}