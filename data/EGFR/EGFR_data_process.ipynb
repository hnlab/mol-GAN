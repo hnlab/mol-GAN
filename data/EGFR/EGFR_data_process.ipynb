{
 "metadata": {
  "language_info": {
   "codemirror_mode": {
    "name": "ipython",
    "version": 3
   },
   "file_extension": ".py",
   "mimetype": "text/x-python",
   "name": "python",
   "nbconvert_exporter": "python",
   "pygments_lexer": "ipython3",
   "version": "3.6.13"
  },
  "orig_nbformat": 2,
  "kernelspec": {
   "name": "python3613jvsc74a57bd043666d1b6e7cd454ec8b51aa605c2403d687ec14a2ab3f5b9fefb78edefef4b3",
   "display_name": "Python 3.6.13 64-bit ('latent_gan_env': conda)"
  }
 },
 "nbformat": 4,
 "nbformat_minor": 2,
 "cells": [
  {
   "cell_type": "code",
   "execution_count": 1,
   "metadata": {},
   "outputs": [],
   "source": [
    "import json\n",
    "import pandas as pd\n",
    "from rdkit import Chem"
   ]
  },
  {
   "cell_type": "code",
   "execution_count": 7,
   "metadata": {},
   "outputs": [
    {
     "output_type": "stream",
     "name": "stdout",
     "text": [
      "The number of download EGFR smi is 4312\n"
     ]
    }
   ],
   "source": [
    "# Get EGFR_csv\n",
    "EGFR = pd.read_csv(\"EGFR_active.csv\")\n",
    "print('The number of download EGFR smi is {}'.format(len(EGFR)))"
   ]
  },
  {
   "cell_type": "code",
   "execution_count": 8,
   "metadata": {},
   "outputs": [
    {
     "output_type": "stream",
     "name": "stderr",
     "text": [
      "RDKit ERROR: [23:22:21] Explicit valence for atom # 1 N, 4, is greater than permitted\n",
      "RDKit ERROR: [23:22:21] Explicit valence for atom # 1 N, 4, is greater than permitted\n",
      "RDKit ERROR: [23:22:22] Explicit valence for atom # 1 N, 4, is greater than permitted\n",
      "RDKit ERROR: [23:22:22] Explicit valence for atom # 1 N, 4, is greater than permitted\n",
      "RDKit ERROR: [23:22:22] Explicit valence for atom # 4 O, 3, is greater than permitted\n",
      "The number of preprocessed EGFR smi is 4307\n"
     ]
    }
   ],
   "source": [
    "# Preliminary screening\n",
    "def valid_or_not(smi):\n",
    "    if len(smi) == 0:\n",
    "        return False\n",
    "    mol = Chem.MolFromSmiles(smi)\n",
    "    if mol is None:\n",
    "        return False\n",
    "    else:\n",
    "        return True\n",
    "EGFR_smi = [Chem.MolToSmiles(Chem.MolFromSmiles(smi)) for smi in EGFR.SMILES if valid_or_not(smi)]\n",
    "print('The number of preprocessed EGFR smi is {}'.format(len(EGFR_smi)))"
   ]
  },
  {
   "cell_type": "code",
   "execution_count": 9,
   "metadata": {},
   "outputs": [],
   "source": [
    "# Save to json file\n",
    "with open('EGFR_smi.json', 'w') as f:\n",
    "    json.dump(EGFR_smi, f)"
   ]
  }
 ]
}