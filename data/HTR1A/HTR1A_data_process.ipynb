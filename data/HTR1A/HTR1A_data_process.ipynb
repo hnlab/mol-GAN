{
 "metadata": {
  "language_info": {
   "codemirror_mode": {
    "name": "ipython",
    "version": 3
   },
   "file_extension": ".py",
   "mimetype": "text/x-python",
   "name": "python",
   "nbconvert_exporter": "python",
   "pygments_lexer": "ipython3",
   "version": "3.6.13"
  },
  "orig_nbformat": 2,
  "kernelspec": {
   "name": "python3613jvsc74a57bd043666d1b6e7cd454ec8b51aa605c2403d687ec14a2ab3f5b9fefb78edefef4b3",
   "display_name": "Python 3.6.13 64-bit ('latent_gan_env': conda)"
  }
 },
 "nbformat": 4,
 "nbformat_minor": 2,
 "cells": [
  {
   "cell_type": "code",
   "execution_count": 1,
   "metadata": {},
   "outputs": [],
   "source": [
    "import json\n",
    "import pandas as pd\n",
    "from rdkit import Chem"
   ]
  },
  {
   "cell_type": "code",
   "execution_count": 2,
   "metadata": {},
   "outputs": [
    {
     "output_type": "stream",
     "name": "stdout",
     "text": [
      "The number of HTR1A_active smi is 3108\n"
     ]
    }
   ],
   "source": [
    "# Get EGFR_csv\n",
    "dataset_active = pd.read_csv(\"HTR1A_active.csv\")\n",
    "print('The number of HTR1A_active smi is {}'.format(len(dataset_active)))"
   ]
  },
  {
   "cell_type": "code",
   "execution_count": 3,
   "metadata": {},
   "outputs": [
    {
     "output_type": "stream",
     "name": "stdout",
     "text": [
      "The number of preprocessed HTR1A_active smi is 3107\n",
      "RDKit ERROR: [23:27:47] Explicit valence for atom # 6 N, 5, is greater than permitted\n"
     ]
    }
   ],
   "source": [
    "# Preliminary screening\n",
    "def valid_or_not(smi):\n",
    "    if len(smi) == 0:\n",
    "        return False\n",
    "    mol = Chem.MolFromSmiles(smi)\n",
    "    if mol is None:\n",
    "        return False\n",
    "    else:\n",
    "        return True\n",
    "dataset_active_smi = [Chem.MolToSmiles(Chem.MolFromSmiles(smi)) for smi in dataset_active.SMILES if valid_or_not(smi)]\n",
    "print('The number of preprocessed HTR1A_active smi is {}'.format(len(dataset_active_smi)))"
   ]
  },
  {
   "cell_type": "code",
   "execution_count": 4,
   "metadata": {},
   "outputs": [],
   "source": [
    "# Save to json file\n",
    "with open('HTR1A_active_smi.json', 'w') as f:\n",
    "    json.dump(dataset_active_smi, f)"
   ]
  }
 ]
}