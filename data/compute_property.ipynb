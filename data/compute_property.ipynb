{
 "metadata": {
  "language_info": {
   "codemirror_mode": {
    "name": "ipython",
    "version": 3
   },
   "file_extension": ".py",
   "mimetype": "text/x-python",
   "name": "python",
   "nbconvert_exporter": "python",
   "pygments_lexer": "ipython3",
   "version": "3.6.13"
  },
  "orig_nbformat": 2,
  "kernelspec": {
   "name": "python3613jvsc74a57bd043666d1b6e7cd454ec8b51aa605c2403d687ec14a2ab3f5b9fefb78edefef4b3",
   "display_name": "Python 3.6.13 64-bit ('latent_gan_env': conda)"
  }
 },
 "nbformat": 4,
 "nbformat_minor": 2,
 "cells": [
  {
   "cell_type": "code",
   "execution_count": null,
   "metadata": {},
   "outputs": [],
   "source": [
    "import json\n",
    "import moses\n",
    "import rdkit\n",
    "import numpy as np\n",
    "import pandas as pd \n",
    "from tqdm import trange, tqdm\n",
    "from rdkit import Chem, rdBase\n",
    "from rdkit.Chem import RDConfig, Descriptors, rdMolDescriptors, AllChem, Draw\n",
    "from rdkit.Chem.Draw.MolDrawing import MolDrawing, DrawingOptions\n",
    "rdBase.DisableLog('rdApp.*')\n",
    "\n",
    "import os\n",
    "import sys\n",
    "sys.path.append(os.path.join(RDConfig.RDContribDir, 'SA_Score'))\n",
    "# now you can import sascore!\n",
    "import sascorer\n",
    "import argparse"
   ]
  },
  {
   "cell_type": "code",
   "execution_count": null,
   "metadata": {},
   "outputs": [],
   "source": [
    "def moses_evaluation(gen_smi_filepath, train_smi_filepath, moses_metrics_path, valid_k):\n",
    "\n",
    "    print(gen_smi_filepath)\n",
    "    \n",
    "    # Timing function\n",
    "    def task_begin():\n",
    "        import time\n",
    "        since = time.time()\n",
    "        print('The task is being executed...\\n----------')\n",
    "        return since\n",
    "\n",
    "    def task_done(since):\n",
    "        import time\n",
    "        print('----------\\nThe task has been done.')\n",
    "        time_elapsed = time.time() - since\n",
    "        print('Time cost {:.0f}m {:.0f}s'.format(time_elapsed // 60, time_elapsed % 60))\n",
    "\n",
    "\n",
    "    # Get train & generated data\n",
    "    with open(train_smi_filepath, 'r') as f:\n",
    "        train_smi = json.load(f)\n",
    "    print(f'The number of trainning smiles is {len(train_smi)}.')\n",
    "\n",
    "    with open(gen_smi_filepath, 'r') as f:\n",
    "        gen_smi = json.load(f)\n",
    "    print(f'The number of genetated smiles is {len(gen_smi)}.')\n",
    "\n",
    "\n",
    "    # Moses evaluation\n",
    "    since = task_begin()\n",
    "    metrics = moses.get_all_metrics(gen_smi, k=valid_k, n_jobs=1, device='cuda:0', \n",
    "                                    batch_size=512, pool=None,\n",
    "                                    test=train_smi, test_scaffolds=train_smi,\n",
    "                                    ptest=None, ptest_scaffolds=None,\n",
    "                                    train=train_smi)\n",
    "    task_done(since) \n",
    "\n",
    "    with open(moses_metrics_path, 'w') as f:\n",
    "        json.dump(metrics, f)"
   ]
  },
  {
   "cell_type": "code",
   "execution_count": null,
   "metadata": {},
   "outputs": [],
   "source": [
    "\n",
    "def load_and_process_property(gen_smi_filepath, property_savepath):\n",
    "    \n",
    "    # Test smi validity\n",
    "    def valid_or_not(smi):\n",
    "        if len(smi) == 0:\n",
    "            return False\n",
    "        mol = Chem.MolFromSmiles(smi)\n",
    "        if mol is None:\n",
    "            return False\n",
    "        try:\n",
    "            Descriptors.qed(mol)\n",
    "        except Exception as e:\n",
    "            print(e)\n",
    "            return False\n",
    "        return True\n",
    " \n",
    "    def compute_prop(df):\n",
    "        # There are 21 molecular descriptors\n",
    "        \n",
    "        df['MolWt'] = df.mol.map(Descriptors.MolWt)\n",
    "        df['MolLogP'] = df.mol.map(Descriptors.MolLogP)\n",
    "        df['BertzCT'] = df.mol.map(Descriptors.BertzCT)\n",
    "        df['TPSA'] = df.mol.map(Descriptors.TPSA)\n",
    "        df['MolMR'] = df.mol.map(Descriptors.MolMR)\n",
    "\n",
    "        df['FractionCSP3'] = df.mol.map(Descriptors.FractionCSP3)\n",
    "        df['NumHDonors'] = df.mol.map(Descriptors.NumHDonors)\n",
    "        df['NumHAcceptors'] = df.mol.map(Descriptors.NumHAcceptors)\n",
    "        df['NumRotatableBonds'] = df.mol.map(Descriptors.NumRotatableBonds)\n",
    "        df['NumHeteroatoms'] = df.mol.map(Descriptors.NumHeteroatoms)\n",
    "        \n",
    "        df['HeavyAtomCount'] = df.mol.map(Descriptors.HeavyAtomCount)\n",
    "        df['RingCount'] = df.mol.map(Descriptors.RingCount)\n",
    "        df['NumAliphaticRings'] = df.mol.map(Descriptors.NumAliphaticRings)\n",
    "        df['NumAromaticRings'] = df.mol.map(Descriptors.NumAromaticRings)\n",
    "        df['NumSaturatedRings'] = df.mol.map(Descriptors.NumSaturatedRings)\n",
    "        \n",
    "        df['NumValenceElectrons'] = df.mol.map(Descriptors.NumValenceElectrons)\n",
    "        df['NumAmideBonds'] = df.mol.map(rdMolDescriptors.CalcNumAmideBonds)\n",
    "        df['NumBridgeheadAtoms'] = df.mol.map(rdMolDescriptors.CalcNumBridgeheadAtoms)\n",
    "        df['NumSpiroAtoms'] = df.mol.map(rdMolDescriptors.CalcNumSpiroAtoms)\n",
    "        df['qed'] = df.mol.map(Descriptors.qed)\n",
    "\n",
    "        df['SA'] = df.mol.map(sascorer.calculateScore)\n",
    "        \n",
    "        \n",
    "    rdBase.DisableLog('rdApp.*')\n",
    "    \n",
    "    with open(gen_smi_filepath, 'r') as f:\n",
    "        all_smi = json.load(f)\n",
    "\n",
    "    smi_list = [i for i in all_smi if valid_or_not(i)]\n",
    "    df = pd.DataFrame(smi_list, columns=['SMILES'])\n",
    "    df['mol'] = [Chem.MolFromSmiles(smi) for smi in tqdm(df['SMILES'])]\n",
    "\n",
    "    compute_prop(df)\n",
    "    df.to_csv(property_savepath, index=False)\n",
    "    \n",
    "    rdBase.EnableLog('rdApp.*')"
   ]
  },
  {
   "cell_type": "code",
   "execution_count": 6,
   "metadata": {},
   "outputs": [
    {
     "output_type": "stream",
     "name": "stderr",
     "text": [
      "100%|██████████| 1056/1056 [00:00<00:00, 5540.69it/s]\n"
     ]
    }
   ],
   "source": [
    "load_and_process_property(gen_smi_filepath='DDR1/DDR1_active_smi.json', property_savepath='DDR1/DDR1_property_smi.csv')"
   ]
  },
  {
   "cell_type": "code",
   "execution_count": 7,
   "metadata": {},
   "outputs": [
    {
     "output_type": "stream",
     "name": "stderr",
     "text": [
      "100%|██████████| 100000/100000 [00:14<00:00, 6686.62it/s]\n"
     ]
    }
   ],
   "source": [
    "load_and_process_property(gen_smi_filepath='ChEMBL/ChEMBL25_SMI_100000.json', property_savepath='ChEMBL/ChEMBL25_property_smi.csv')\n"
   ]
  },
  {
   "cell_type": "code",
   "execution_count": 8,
   "metadata": {},
   "outputs": [
    {
     "output_type": "stream",
     "name": "stderr",
     "text": [
      "100%|██████████| 4307/4307 [00:00<00:00, 6787.49it/s]\n"
     ]
    }
   ],
   "source": [
    "load_and_process_property(gen_smi_filepath='EGFR/EGFR_active_smi.json', property_savepath='EGFR/EGFR_property_smi.csv')\n"
   ]
  },
  {
   "cell_type": "code",
   "execution_count": 9,
   "metadata": {},
   "outputs": [
    {
     "output_type": "stream",
     "name": "stderr",
     "text": [
      "100%|██████████| 3107/3107 [00:00<00:00, 6828.54it/s]\n"
     ]
    }
   ],
   "source": [
    "load_and_process_property(gen_smi_filepath='HTR1A/HTR1A_active_smi.json', property_savepath='HTR1A/HTR1A_property_smi.csv')\n"
   ]
  }
 ]
}