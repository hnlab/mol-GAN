{
 "metadata": {
  "language_info": {
   "codemirror_mode": {
    "name": "ipython",
    "version": 3
   },
   "file_extension": ".py",
   "mimetype": "text/x-python",
   "name": "python",
   "nbconvert_exporter": "python",
   "pygments_lexer": "ipython3",
   "version": "3.6.13"
  },
  "orig_nbformat": 2,
  "kernelspec": {
   "name": "python3613jvsc74a57bd043666d1b6e7cd454ec8b51aa605c2403d687ec14a2ab3f5b9fefb78edefef4b3",
   "display_name": "Python 3.6.13 64-bit ('latent_gan_env': conda)"
  }
 },
 "nbformat": 4,
 "nbformat_minor": 2,
 "cells": [
  {
   "cell_type": "code",
   "execution_count": 1,
   "metadata": {},
   "outputs": [],
   "source": [
    "# Import necessary libraries\n",
    "import os \n",
    "import sys\n",
    "import time\n",
    "import urllib \n",
    "import requests \n",
    "import os, shutil\n",
    "import numpy as np\n",
    "import pandas as pd\n",
    "from Bio import SeqIO\n",
    "from Bio.Seq import Seq\n",
    "from Bio.Blast import NCBIWWW\n",
    "from Bio.Blast import NCBIXML\n",
    "from Bio.PDB import *\n",
    "from biopandas.pdb import PandasPdb\n",
    "from Bio import ExPASy\n",
    "import pandas as pd\n",
    "from chembl_webresource_client.new_client import new_client"
   ]
  },
  {
   "cell_type": "code",
   "execution_count": 2,
   "metadata": {},
   "outputs": [],
   "source": [
    "# Timing function\n",
    "def task_begin():\n",
    "    import time\n",
    "    since = time.time()\n",
    "    print('The task is being executed...\\n----------\\n')\n",
    "    return since\n",
    "\n",
    "def task_done(since):\n",
    "    import time\n",
    "    print('\\n----------\\nThe task has been done.')\n",
    "    time_elapsed = time.time() - since\n",
    "    print('Time cost {:.0f}m {:.0f}s'.format(time_elapsed // 60, time_elapsed % 60))"
   ]
  },
  {
   "cell_type": "code",
   "execution_count": null,
   "metadata": {},
   "outputs": [],
   "source": [
    "# get sequence from user input\n",
    "\n",
    "since = task_begin()\n",
    "\n",
    "query = Seq(input(\"Paste input in a form of FASTA sequence: \")).upper()  # input sequence and convert it to uppercase\n",
    "\n",
    "task_done(since)"
   ]
  },
  {
   "cell_type": "code",
   "execution_count": 3,
   "metadata": {},
   "outputs": [
    {
     "output_type": "stream",
     "name": "stdout",
     "text": [
      "The task is being executed...\n----------\n\nThe sequence has been read.\n\n----------\nThe task has been done.\nTime cost 0m 0s\n"
     ]
    }
   ],
   "source": [
    "# get sequence from file\n",
    "\n",
    "since = task_begin()\n",
    "\n",
    "filename = 'protein.fasta'\n",
    "record = SeqIO.read(filename, \"fasta\")\n",
    "query = record.seq\n",
    "print('The sequence has been read.')\n",
    "\n",
    "task_done(since)"
   ]
  },
  {
   "cell_type": "code",
   "execution_count": 4,
   "metadata": {},
   "outputs": [
    {
     "output_type": "stream",
     "name": "stdout",
     "text": [
      "The task is being executed...\n",
      "----------\n",
      "\n",
      "Query sent to NCBIWWW against swissprot database\n",
      "Blast result has been written to blast_result.xml\n",
      "\n",
      "----------\n",
      "The task has been done.\n",
      "Time cost 1m 4s\n"
     ]
    }
   ],
   "source": [
    "# Detect DNA or protein & get blast result\n",
    "\n",
    "since = task_begin()\n",
    "\n",
    "# detect whether DNA seq or protein seq\n",
    "if set(query) == set('ATCG'):\n",
    "    query = query.translate()\n",
    "    print(f\"DNA sequence detected. Sequence translated to : {query}\")\n",
    "    \n",
    "print(\"Query sent to NCBIWWW against swissprot database\")\n",
    "result_handle = NCBIWWW.qblast(\"blastp\", \"swissprot\", query)\n",
    "with open(\"blast_result.xml\", \"w\") as blast_result:\n",
    "    blast_result.write(result_handle.read())\n",
    "print(\"Blast result has been written to blast_result.xml\")\n",
    "\n",
    "task_done(since)"
   ]
  },
  {
   "cell_type": "code",
   "execution_count": 5,
   "metadata": {},
   "outputs": [
    {
     "output_type": "stream",
     "name": "stdout",
     "text": [
      "The task is being executed...\n----------\n\nTop hits: ['Q08345', 'Q7YR43', 'Q63474']\n\n----------\nThe task has been done.\nTime cost 0m 0s\n"
     ]
    }
   ],
   "source": [
    "# Read blast output & return hit ids\n",
    "\n",
    "since = task_begin()\n",
    "\n",
    "# def read_blast_output():\n",
    "result = open(\"blast_result.xml\")\n",
    "blast_records = NCBIXML.read(result)\n",
    "hit_ids = []\n",
    "for alignment in blast_records.alignments:\n",
    "    hit_ids.append(alignment.accession)\n",
    "    if len(hit_ids) == 3:    # Take three top alignments and stop\n",
    "        break\n",
    "print(f\"Top hits: {hit_ids}\")\n",
    "\n",
    "# return hit_ids\n",
    "if len(hit_ids) == 0:\n",
    "    print(\"No hits identified in the database. Check your FASTA input.\")\n",
    "    \n",
    "task_done(since)"
   ]
  }
 ]
}