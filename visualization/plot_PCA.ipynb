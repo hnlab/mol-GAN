{
 "cells": [
  {
   "cell_type": "code",
   "execution_count": 1,
   "metadata": {},
   "outputs": [],
   "source": [
    "import pandas as pd\n",
    "import matplotlib.pyplot as plt\n",
    "import numpy as np\n",
    "from sklearn.decomposition import PCA\n",
    "from sklearn.pipeline import Pipeline\n",
    "from sklearn.preprocessing import MinMaxScaler\n",
    "from sklearn.manifold import TSNE\n",
    "from mpl_toolkits.mplot3d import Axes3D\n",
    "%matplotlib widget\n"
   ]
  },
  {
   "cell_type": "code",
   "execution_count": 2,
   "metadata": {},
   "outputs": [],
   "source": [
    "def std_PCA(**argv): \n",
    "    scaler = MinMaxScaler()  # Data standardization and normalization\n",
    "    pca = PCA(**argv) \n",
    "    pipeline = Pipeline([('scaler', scaler), ('pca', pca)])\n",
    "    return pipeline\n",
    "\n",
    "def PCA_process(df, n_components=2):\n",
    "    column_name = df.columns.values.tolist()\n",
    "    property = df[column_name[2:]]\n",
    "    # print(property)\n",
    "    pca = std_PCA(n_components=n_components) \n",
    "    PCA_result = pca.fit_transform(property)\n",
    "    explained_var_ratio = pca['pca'].explained_variance_ratio_  # Variance explanation ratio \n",
    "\n",
    "    return PCA_result, explained_var_ratio"
   ]
  },
  {
   "cell_type": "code",
   "execution_count": 5,
   "metadata": {},
   "outputs": [],
   "source": [
    "def PCA_plot(path_train, path_gen):\n",
    "    mol_train = pd.read_csv(path_train)\n",
    "    mol_gen = pd.read_csv(path_gen)\n",
    "    mol = pd.concat([mol_gen, mol_train])\n",
    "\n",
    "    PCA_all, ex_var_ratio_all = PCA_process(mol, n_components=2, )\n",
    "    # PCA_train, ex_var_ratio_train = PCA_process(mol_train, n_components=2, )\n",
    "    # PCA_gen, ex_var_ratio_gen = PCA_process(mol_gen, n_components=2, )\n",
    "\n",
    "    # print(ex_var_ratio_all, sum(ex_var_ratio_all))\n",
    "    print('explained_variance of PCA 1: {:.2%}'.format(ex_var_ratio_all[0]))\n",
    "    print('explained_variance of PCA 2: {:.2%}'.format(ex_var_ratio_all[1]))\n",
    "    print('sum explained_variance: {:.2%}'.format(sum(ex_var_ratio_all)))\n",
    "    # print(ex_var_ratio_train)\n",
    "    # print(ex_var_ratio_gen)\n",
    "    \n",
    "    plt.close()\n",
    "    plt.figure()\n",
    "    s1 = plt.scatter(PCA_all[:len(mol_gen), 0], PCA_all[:len(mol_gen), 1], c='b', marker='o', s=2, alpha=1)\n",
    "    s2 = plt.scatter(PCA_all[len(mol_gen):, 0], PCA_all[len(mol_gen):, 1], c='r', marker='o', s=2, alpha=1) \n",
    "    \n",
    "    ax = plt.gca()\n",
    "\n",
    "    # Set figure title\n",
    "    font_title = {'family': 'Times New Roman',\n",
    "             'style': 'normal',\n",
    "             'weight': 'bold',\n",
    "             'color': 'black',\n",
    "             'size': 18\n",
    "             }\n",
    "    plt.title(\"PCA of Molecular Discriptors (WGAN-GP)\", fontdict=font_title, verticalalignment='bottom', pad=None)  \n",
    "\n",
    "    # Set legend\n",
    "    plt.legend((s1,s2), ('Generating set','Training set'), \n",
    "               prop={'family':'Times New Roman', 'size':10, 'weight':'bold'}, \n",
    "               loc='upper right')\n",
    "\n",
    "    # Set tick labels\n",
    "    plt.tick_params(axis='x', labelsize='12', width=1.5, direction='in')\n",
    "    plt.tick_params(axis='y', labelsize='12', width=1.5, direction='in')\n",
    "    labels = ax.get_xticklabels() + ax.get_yticklabels()\n",
    "    [label.set_fontname('Times New Roman') for label in labels]\n",
    "    [label.set_fontweight('bold') for label in labels]\n",
    "\n",
    "    # Set the thickness of the coordinate axis \n",
    "    ax.spines['bottom'].set_linewidth(1.5)\n",
    "    ax.spines['left'].set_linewidth(1.5)\n",
    "    ax.spines['right'].set_linewidth(1.5)\n",
    "    ax.spines['top'].set_linewidth(1.5)\n",
    "\n",
    "    # Set axis labels\n",
    "    x_label = {'family': 'Times New Roman',\n",
    "             'style': 'normal',\n",
    "             'weight': 'semibold',\n",
    "             'color': 'black',\n",
    "             'size': 16\n",
    "             }\n",
    "    y_label = {'family': 'Times New Roman',\n",
    "             'style': 'normal',\n",
    "             'weight': 'semibold',\n",
    "             'color': 'black',\n",
    "             'size': 16\n",
    "             }\n",
    "    plt.xlabel(\"PC 1\", fontdict=x_label)\n",
    "    plt.ylabel(\"PC 2\", fontdict=y_label,)\n",
    "\n",
    "    # Gridlines\n",
    "    # plt.grid(linewidth='0.5', linestyle='--') \n",
    "\n",
    "    # Save\n",
    "    plt.savefig('PCA_2D_Molecular_Discriptors_ChEMBL.pdf')\n",
    "    plt.savefig('PCA_2D_Molecular_Discriptors_ChEMBL.png', dpi=1000)\n"
   ]
  },
  {
   "cell_type": "code",
   "execution_count": 6,
   "metadata": {},
   "outputs": [
    {
     "name": "stdout",
     "output_type": "stream",
     "text": [
      "explained_variance of PCA 1: 43.71%\n",
      "explained_variance of PCA 2: 25.19%\n",
      "sum explained_variance: 68.90%\n"
     ]
    },
    {
     "data": {
      "application/vnd.jupyter.widget-view+json": {
       "model_id": "5cfb9a7f3e8448d7b104f10ecd6122f2",
       "version_major": 2,
       "version_minor": 0
      },
      "text/plain": [
       "Canvas(toolbar=Toolbar(toolitems=[('Home', 'Reset original view', 'home', 'home'), ('Back', 'Back to previous …"
      ]
     },
     "metadata": {},
     "output_type": "display_data"
    }
   ],
   "source": [
    "PCA_plot(path_train='ChEMBL25_property_smi.csv', \n",
    "         path_gen='3000_property_smi.csv')"
   ]
  },
  {
   "cell_type": "code",
   "execution_count": 34,
   "metadata": {},
   "outputs": [],
   "source": [
    "def PCA_plot3D(path_train, path_gen):\n",
    "    mol_train = pd.read_csv(path_train)\n",
    "    mol_gen = pd.read_csv(path_gen)\n",
    "    mol = pd.concat([mol_gen, mol_train])\n",
    "\n",
    "    PCA_all, ex_var_ratio_all = PCA_process(mol, n_components=3, )\n",
    "    # PCA_train, ex_var_ratio_train = PCA_process(mol_train, n_components=3, )\n",
    "    # PCA_gen, ex_var_ratio_gen = PCA_process(mol_gen, n_components=3, )\n",
    "\n",
    "    print('explained_variance of PCA 1: {:.2%}'.format(ex_var_ratio_all[0]))\n",
    "    print('explained_variance of PCA 2: {:.2%}'.format(ex_var_ratio_all[1]))\n",
    "    print('explained_variance of PCA 3: {:.2%}'.format(ex_var_ratio_all[2]))\n",
    "    print('sum explained_variance: {:.2%}'.format(sum(ex_var_ratio_all)))\n",
    "    # print(ex_var_ratio_train)\n",
    "    # print(ex_var_ratio_gen)\n",
    "\n",
    "    fig = plt.figure()\n",
    "    ax = fig.add_subplot(projection='3d')\n",
    "    ax.scatter(PCA_all[:int(len(mol_gen)), 0], PCA_all[:int(len(mol_gen)), 1], PCA_all[:int(len(mol_gen)), 2], c='b', marker='o', s=1, alpha=0.3)\n",
    "    ax.scatter(PCA_all[len(mol_gen):, 0], PCA_all[len(mol_gen):, 1], PCA_all[len(mol_gen):, 2], c='r', marker='o', s=1, alpha=0.3)   \n",
    "\n",
    "    # ax.view_init(30, 150)\n",
    "    # Save\n",
    "    plt.savefig('PCA_3D_Molecular_Discriptors_ChEMBL.pdf')\n",
    "    # plt.savefig('PCA_2D_Molecular_Discriptors_ChEMBL.png', dpi=1000)        "
   ]
  },
  {
   "cell_type": "code",
   "execution_count": 35,
   "metadata": {},
   "outputs": [
    {
     "name": "stdout",
     "output_type": "stream",
     "text": [
      "explained_variance of PCA 1: 53.46%\n",
      "explained_variance of PCA 2: 12.38%\n",
      "explained_variance of PCA 3: 9.67%\n",
      "sum explained_variance: 75.51%\n"
     ]
    },
    {
     "data": {
      "application/vnd.jupyter.widget-view+json": {
       "model_id": "536dd6bb4cdb4d67a2bf7fb3a92ca8fa",
       "version_major": 2,
       "version_minor": 0
      },
      "text/plain": [
       "Canvas(toolbar=Toolbar(toolitems=[('Home', 'Reset original view', 'home', 'home'), ('Back', 'Back to previous …"
      ]
     },
     "metadata": {},
     "output_type": "display_data"
    }
   ],
   "source": [
    "PCA_plot3D(path_train='ChEMBL_property_smi.csv', \n",
    "           path_gen='3000_property_smi.csv')"
   ]
  },
  {
   "cell_type": "code",
   "execution_count": null,
   "metadata": {},
   "outputs": [],
   "source": []
  }
 ],
 "metadata": {
  "kernelspec": {
   "display_name": "Python 3",
   "language": "python",
   "name": "python3"
  },
  "language_info": {
   "codemirror_mode": {
    "name": "ipython",
    "version": 3
   },
   "file_extension": ".py",
   "mimetype": "text/x-python",
   "name": "python",
   "nbconvert_exporter": "python",
   "pygments_lexer": "ipython3",
   "version": "3.8.5"
  }
 },
 "nbformat": 4,
 "nbformat_minor": 4
}