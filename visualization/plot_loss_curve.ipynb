{
 "cells": [
  {
   "cell_type": "code",
   "execution_count": 1,
   "metadata": {},
   "outputs": [],
   "source": [
    "import seaborn as sns\n",
    "import matplotlib.pyplot as plt \n",
    "import numpy as np \n",
    "import pandas as pd\n",
    "import warnings\n",
    "import json\n",
    "%matplotlib widget\n",
    "\n",
    "warnings.filterwarnings(\"ignore\")"
   ]
  },
  {
   "cell_type": "code",
   "execution_count": 2,
   "metadata": {},
   "outputs": [],
   "source": [
    "with open('gen_loss.json', 'r') as f:\n",
    "    gen_loss = json.load(f)\n",
    "\n",
    "with open('disc_loss.json', 'r') as f:\n",
    "    disc_loss = json.load(f)\n",
    "\n",
    "gen_loss = np.array(gen_loss)    \n",
    "disc_loss = np.array(disc_loss)    \n",
    "# 列表 time，epoch，loss"
   ]
  },
  {
   "cell_type": "code",
   "execution_count": 3,
   "metadata": {},
   "outputs": [
    {
     "data": {
      "application/vnd.jupyter.widget-view+json": {
       "model_id": "e7a6ecfa77964b9fba4504fb29c4a1f2",
       "version_major": 2,
       "version_minor": 0
      },
      "text/plain": [
       "Canvas(toolbar=Toolbar(toolitems=[('Home', 'Reset original view', 'home', 'home'), ('Back', 'Back to previous …"
      ]
     },
     "metadata": {},
     "output_type": "display_data"
    }
   ],
   "source": [
    "plt.close()\n",
    "plt.figure()\n",
    "plt.plot(gen_loss[:, 1], gen_loss[:, 2], '-', color='#ff0000', label='Gen loss')\n",
    "plt.plot(disc_loss[:, 1], disc_loss[:, 2], '-', color='#0000ff', label='Disc loss')\n",
    "ax = plt.gca()\n",
    "\n",
    "# 设置图标题\n",
    "font_title = {'family': 'Times New Roman',\n",
    "         'style': 'normal',\n",
    "         'weight': 'bold',\n",
    "         'color': 'black',\n",
    "         'size': 18\n",
    "         }\n",
    "plt.title(\"Gen & Disc Loss Curve (WGAN-GP)\", fontdict=font_title, verticalalignment='bottom', pad=None)  \n",
    "\n",
    "# 设置图例\n",
    "plt.legend(prop={'family':'Times New Roman', 'size':10}, loc='upper right')\n",
    "\n",
    "# 设置刻度线标签\n",
    "plt.tick_params(axis='x', labelsize='12', width=1.5, direction='in')\n",
    "plt.tick_params(axis='y', labelsize='12', width=1.5, direction='in')\n",
    "labels = ax.get_xticklabels() + ax.get_yticklabels()\n",
    "[label.set_fontname('Times New Roman') for label in labels]\n",
    "[label.set_fontweight('bold') for label in labels]\n",
    "\n",
    "#设置坐标轴的粗细\n",
    "ax.spines['bottom'].set_linewidth(1.5)\n",
    "ax.spines['left'].set_linewidth(1.5)\n",
    "ax.spines['right'].set_linewidth(1.5)\n",
    "ax.spines['top'].set_linewidth(1.5)\n",
    "\n",
    "# 横纵坐标范围\n",
    "# plt.xlim([-10, 3000*1.1])\n",
    "# plt.ylim([y1.min()*1.1, y1.max()*1.1])\n",
    "\n",
    "# 设置坐标轴标签\n",
    "x_label = {'family': 'Times New Roman',\n",
    "         'style': 'normal',\n",
    "         'weight': 'semibold',\n",
    "         'color': 'black',\n",
    "         'size': 16\n",
    "         }\n",
    "y_label = {'family': 'Times New Roman',\n",
    "         'style': 'normal',\n",
    "         'weight': 'semibold',\n",
    "         'color': 'black',\n",
    "         'size': 16\n",
    "         }\n",
    "plt.xlabel(\"Epochs\", fontdict=x_label)\n",
    "plt.ylabel(\"Loss\", fontdict=y_label,)\n",
    "\n",
    "# 网格线\n",
    "plt.grid(linewidth='0.5', linestyle='--') \n",
    "\n",
    "# 保存\n",
    "plt.savefig('Gen_Disc_Loss_Curve_ChEMBL.pdf')\n",
    "plt.savefig('Gen_Disc_Loss_Curve_ChEMBL.png', dpi=1000)"
   ]
  },
  {
   "cell_type": "code",
   "execution_count": null,
   "metadata": {},
   "outputs": [],
   "source": []
  },
  {
   "cell_type": "code",
   "execution_count": null,
   "metadata": {},
   "outputs": [],
   "source": []
  }
 ],
 "metadata": {
  "kernelspec": {
   "display_name": "Python 3",
   "language": "python",
   "name": "python3"
  },
  "language_info": {
   "codemirror_mode": {
    "name": "ipython",
    "version": 3
   },
   "file_extension": ".py",
   "mimetype": "text/x-python",
   "name": "python",
   "nbconvert_exporter": "python",
   "pygments_lexer": "ipython3",
   "version": "3.8.5"
  }
 },
 "nbformat": 4,
 "nbformat_minor": 4
}
