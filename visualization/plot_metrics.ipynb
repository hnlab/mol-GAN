{
 "cells": [
  {
   "cell_type": "code",
   "execution_count": 6,
   "metadata": {},
   "outputs": [],
   "source": [
    "import seaborn as sns\n",
    "import matplotlib.pyplot as plt \n",
    "import numpy as np \n",
    "import pandas as pd\n",
    "import warnings\n",
    "import json\n",
    "from scipy.stats import wasserstein_distance\n",
    "%matplotlib widget\n",
    "\n",
    "warnings.filterwarnings(\"ignore\")"
   ]
  },
  {
   "cell_type": "markdown",
   "metadata": {},
   "source": [
    "### 1. 获取数据"
   ]
  },
  {
   "cell_type": "code",
   "execution_count": 7,
   "metadata": {},
   "outputs": [],
   "source": [
    "epochs = list(range(100, 3000+1, 100))\n",
    "\n",
    "moses_record = {}\n",
    "for epoch in epochs:\n",
    "    with open('metrics/'+str(epoch)+'_moses_smi.json', 'r') as f:\n",
    "        moses_record[epoch] = json.load(f)  \n",
    "\n",
    "metrics = {}\n",
    "for epoch in epochs:\n",
    "    for k, v in moses_record[epoch].items():\n",
    "        if k in metrics.keys():\n",
    "            metrics[k].append(v)\n",
    "        else:\n",
    "            metrics[k] = []\n",
    "            metrics[k].append(v)"
   ]
  },
  {
   "cell_type": "code",
   "execution_count": 8,
   "metadata": {},
   "outputs": [],
   "source": [
    "metrics.pop('SNN/TestSF')\n",
    "metrics.pop('Frag/TestSF')\n",
    "metrics.pop('Scaf/TestSF')\n",
    "metrics.pop('IntDiv2')\n",
    "metrics['SNN/Train'] = metrics.pop('SNN/Test')\n",
    "metrics['Frag/Train'] = metrics.pop('Frag/Test')\n",
    "metrics['Scaf/Train'] = metrics.pop('Scaf/Test')\n",
    "metrics['Valid'] = metrics.pop('valid')\n",
    "metrics['Unique'] = metrics.pop('unique@140000')\n",
    "metrics['MolWt'] = metrics.pop('weight')"
   ]
  },
  {
   "cell_type": "code",
   "execution_count": 9,
   "metadata": {},
   "outputs": [
    {
     "data": {
      "text/plain": [
       "dict_keys(['IntDiv', 'Filters', 'logP', 'SA', 'QED', 'Novelty', 'SNN/Train', 'Frag/Train', 'Scaf/Train', 'Valid', 'Unique', 'MolWt'])"
      ]
     },
     "execution_count": 9,
     "metadata": {},
     "output_type": "execute_result"
    }
   ],
   "source": [
    "metrics.keys()"
   ]
  },
  {
   "cell_type": "code",
   "execution_count": 10,
   "metadata": {},
   "outputs": [],
   "source": [
    "with open('metrics.json', 'w') as f:\n",
    "    json.dump(metrics, f)"
   ]
  },
  {
   "cell_type": "code",
   "execution_count": 11,
   "metadata": {},
   "outputs": [],
   "source": [
    "metrics_1 = ['Valid', 'Unique', 'Novelty', 'Filters']\n",
    "metrics_2 = ['Frag/Train', 'Scaf/Train', 'SNN/Train', 'IntDiv']\n",
    "metrics_3 = ['logP', 'SA', 'QED', 'MolWt']"
   ]
  },
  {
   "cell_type": "code",
   "execution_count": 12,
   "metadata": {},
   "outputs": [
    {
     "data": {
      "application/vnd.jupyter.widget-view+json": {
       "model_id": "8ee642e0f1154d34ba7e3358d449aaac",
       "version_major": 2,
       "version_minor": 0
      },
      "text/plain": [
       "Canvas(toolbar=Toolbar(toolitems=[('Home', 'Reset original view', 'home', 'home'), ('Back', 'Back to previous …"
      ]
     },
     "metadata": {},
     "output_type": "display_data"
    }
   ],
   "source": [
    "# metrics 1\n",
    "plt.close()\n",
    "plt.figure(figsize=(10, 8))\n",
    "for i, index in enumerate(metrics_1):\n",
    "    plt.subplot(2, 2, i+1)\n",
    "    plt.subplots_adjust(wspace=0.2, hspace=0.4)#调整子图间距\n",
    "    \n",
    "    plt.plot(epochs, metrics[index], '-b', marker='.')\n",
    "        \n",
    "    ax = plt.gca()\n",
    "    \n",
    "    # 设置图标题\n",
    "    font_title = {'family': 'Times New Roman',\n",
    "             'style': 'normal',\n",
    "             'weight': 'bold',\n",
    "             'color': 'black',\n",
    "             'size': 17\n",
    "             }\n",
    "    plt.title(index, fontdict=font_title, verticalalignment='bottom', pad=None)\n",
    "    \n",
    "    # 设置刻度线标签\n",
    "    plt.tick_params(axis='x', labelsize='12', width=1, length=4, direction='in')\n",
    "    plt.tick_params(axis='y', labelsize='12', width=1, length=4, direction='in')\n",
    "    labels = ax.get_xticklabels() + ax.get_yticklabels()\n",
    "    [label.set_fontname('Times New Roman') for label in labels]\n",
    "    # [label.set_fontweight('bold') for label in labels]\n",
    "    \n",
    "    # 设置坐标轴标签\n",
    "    x_label = {'family': 'Times New Roman',\n",
    "             'style': 'normal',\n",
    "             'weight': 'normal',\n",
    "             'color': 'black',\n",
    "             'size': 12\n",
    "             }\n",
    "#     y_label = {'family': 'Times New Roman',\n",
    "#              'style': 'normal',\n",
    "#              'weight': 'semibold',\n",
    "#              'color': 'black',\n",
    "#              'size': 16\n",
    "#              }\n",
    "    plt.xlabel(\"Epochs\", fontdict=x_label)\n",
    "#     plt.ylabel(\"Loss\", fontdict=y_label,)\n",
    "\n",
    "    # # 网格线\n",
    "    plt.grid(linewidth='0.5', linestyle='--') \n",
    "\n",
    "# 保存\n",
    "# plt.savefig('metrics1_Valid_Unique_Novelty_Filter_ChEMBL.pdf')\n",
    "# plt.savefig('metrics1_Valid_Unique_Novelty_Filter_ChEMBL.png', dpi=1000)"
   ]
  },
  {
   "cell_type": "code",
   "execution_count": 13,
   "metadata": {},
   "outputs": [
    {
     "data": {
      "application/vnd.jupyter.widget-view+json": {
       "model_id": "e86552adc4974d5684ca26bdb9062d10",
       "version_major": 2,
       "version_minor": 0
      },
      "text/plain": [
       "Canvas(toolbar=Toolbar(toolitems=[('Home', 'Reset original view', 'home', 'home'), ('Back', 'Back to previous …"
      ]
     },
     "metadata": {},
     "output_type": "display_data"
    }
   ],
   "source": [
    "# metrics 2\n",
    "plt.close()\n",
    "plt.figure(figsize=(10, 8))\n",
    "for i, index in enumerate(metrics_2):\n",
    "    plt.subplot(2, 2, i+1)\n",
    "    plt.subplots_adjust(wspace=0.2, hspace=0.4)#调整子图间距\n",
    "    \n",
    "    plt.plot(epochs, metrics[index], '-b', marker='.')\n",
    "        \n",
    "    ax = plt.gca()\n",
    "    \n",
    "    # 设置图标题\n",
    "    font_title = {'family': 'Times New Roman',\n",
    "             'style': 'normal',\n",
    "             'weight': 'bold',\n",
    "             'color': 'black',\n",
    "             'size': 17\n",
    "             }\n",
    "    plt.title(index, fontdict=font_title, verticalalignment='bottom', pad=None)\n",
    "    \n",
    "    # 设置刻度线标签\n",
    "    plt.tick_params(axis='x', labelsize='12', width=1, length=4, direction='in')\n",
    "    plt.tick_params(axis='y', labelsize='12', width=1, length=4, direction='in')\n",
    "    labels = ax.get_xticklabels() + ax.get_yticklabels()\n",
    "    [label.set_fontname('Times New Roman') for label in labels]\n",
    "    # [label.set_fontweight('bold') for label in labels]\n",
    "    \n",
    "    # 设置坐标轴标签\n",
    "    x_label = {'family': 'Times New Roman',\n",
    "             'style': 'normal',\n",
    "             'weight': 'normal',\n",
    "             'color': 'black',\n",
    "             'size': 12\n",
    "             }\n",
    "#     y_label = {'family': 'Times New Roman',\n",
    "#              'style': 'normal',\n",
    "#              'weight': 'semibold',\n",
    "#              'color': 'black',\n",
    "#              'size': 16\n",
    "#              }\n",
    "    plt.xlabel(\"Epochs\", fontdict=x_label)\n",
    "#     plt.ylabel(\"Loss\", fontdict=y_label,)\n",
    "\n",
    "    # # 网格线\n",
    "    plt.grid(linewidth='0.5', linestyle='--') \n",
    "\n",
    "# 保存\n",
    "# plt.savefig('metrics2_Frag_Scaf_SNN_IntDiv_ChEMBL.pdf')\n",
    "# plt.savefig('metrics2_Frag_Scaf_SNN_IntDiv_ChEMBL.png', dpi=1000)"
   ]
  },
  {
   "cell_type": "code",
   "execution_count": 22,
   "metadata": {},
   "outputs": [
    {
     "data": {
      "application/vnd.jupyter.widget-view+json": {
       "model_id": "b3f6c73796434b2a84838a1c516a89fa",
       "version_major": 2,
       "version_minor": 0
      },
      "text/plain": [
       "Canvas(toolbar=Toolbar(toolitems=[('Home', 'Reset original view', 'home', 'home'), ('Back', 'Back to previous …"
      ]
     },
     "metadata": {},
     "output_type": "display_data"
    }
   ],
   "source": [
    "# metrics 3\n",
    "plt.close()\n",
    "plt.figure(figsize=(10, 8))\n",
    "for i, index in enumerate(metrics_3):\n",
    "    plt.subplot(2, 2, i+1)\n",
    "    plt.subplots_adjust(wspace=0.2, hspace=0.4)#调整子图间距\n",
    "    \n",
    "    plt.plot(epochs, metrics[index], '-b', marker='.')\n",
    "        \n",
    "    ax = plt.gca()\n",
    "    \n",
    "    # 设置图标题\n",
    "    font_title = {'family': 'Times New Roman',\n",
    "             'style': 'normal',\n",
    "             'weight': 'bold',\n",
    "             'color': 'black',\n",
    "             'size': 17\n",
    "             }\n",
    "    plt.title(index, fontdict=font_title, verticalalignment='bottom', pad=None)\n",
    "    \n",
    "    # 设置刻度线标签\n",
    "    plt.tick_params(axis='x', labelsize='12', width=1, length=4, direction='in')\n",
    "    plt.tick_params(axis='y', labelsize='12', width=1, length=4, direction='in')\n",
    "    labels = ax.get_xticklabels() + ax.get_yticklabels()\n",
    "    [label.set_fontname('Times New Roman') for label in labels]\n",
    "    # [label.set_fontweight('bold') for label in labels]\n",
    "\n",
    "    # 设置坐标轴标签\n",
    "    x_label = {'family': 'Times New Roman',\n",
    "             'style': 'normal',\n",
    "             'weight': 'normal',\n",
    "             'color': 'black',\n",
    "             'size': 12\n",
    "             }\n",
    "#     y_label = {'family': 'Times New Roman',\n",
    "#              'style': 'normal',\n",
    "#              'weight': 'semibold',\n",
    "#              'color': 'black',\n",
    "#              'size': 16\n",
    "#              }\n",
    "    plt.xlabel(\"Epochs\", fontdict=x_label)\n",
    "#     plt.ylabel(\"Loss\", fontdict=y_label,)\n",
    "\n",
    "    # # 网格线\n",
    "    plt.grid(linewidth='0.5', linestyle='--') \n",
    "\n",
    "# 保存\n",
    "plt.savefig('metrics3_logP_SA_QED_MolWt_ChEMBL.pdf')\n",
    "plt.savefig('metrics3_logP_SA_QED_MolWt_ChEMBL.png', dpi=1000)"
   ]
  },
  {
   "cell_type": "code",
   "execution_count": null,
   "metadata": {},
   "outputs": [],
   "source": []
  }
 ],
 "metadata": {
  "kernelspec": {
   "display_name": "Python 3",
   "language": "python",
   "name": "python3"
  },
  "language_info": {
   "codemirror_mode": {
    "name": "ipython",
    "version": 3
   },
   "file_extension": ".py",
   "mimetype": "text/x-python",
   "name": "python",
   "nbconvert_exporter": "python",
   "pygments_lexer": "ipython3",
   "version": "3.8.5"
  }
 },
 "nbformat": 4,
 "nbformat_minor": 4
}
