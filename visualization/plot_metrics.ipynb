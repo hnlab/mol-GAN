{
 "cells": [
  {
   "cell_type": "code",
   "execution_count": 1,
   "metadata": {},
   "outputs": [],
   "source": [
    "import seaborn as sns\n",
    "import matplotlib.pyplot as plt \n",
    "import numpy as np \n",
    "import pandas as pd\n",
    "import warnings\n",
    "import json\n",
    "from scipy.stats import wasserstein_distance\n",
    "%matplotlib widget\n",
    "\n",
    "warnings.filterwarnings(\"ignore\")"
   ]
  },
  {
   "cell_type": "code",
   "execution_count": 2,
   "metadata": {},
   "outputs": [],
   "source": [
    "with open('mol-wgan-gp/ChEMBL/metrics.json', 'r') as f:\n",
    "    gp = json.load(f)\n",
    "with open('mol-wgan-div/ChEMBL/metrics.json', 'r') as f:\n",
    "    div = json.load(f)\n",
    "with open('mol-RaHingeGAN/ChEMBL/metrics.json', 'r') as f:\n",
    "    ra = json.load(f)"
   ]
  },
  {
   "cell_type": "code",
   "execution_count": 6,
   "metadata": {},
   "outputs": [],
   "source": [
    "metrics_1 = ['Valid', 'Unique', 'Novelty', 'Filters']\n",
    "metrics_2 = ['Frag/Train', 'Scaf/Train', 'SNN/Train', 'IntDiv']\n",
    "colors = ['Orange', 'RoyalBlue', 'Magenta']\n",
    "markers = ['D', 'o', '^']\n",
    "labels = ['RaHingeGAN', 'WGAN-GP', 'WGAN-div']"
   ]
  },
  {
   "cell_type": "code",
   "execution_count": 7,
   "metadata": {},
   "outputs": [
    {
     "data": {
      "application/vnd.jupyter.widget-view+json": {
       "model_id": "ed956f5f33b04b69ab586eee850924cb",
       "version_major": 2,
       "version_minor": 0
      },
      "text/plain": [
       "Canvas(toolbar=Toolbar(toolitems=[('Home', 'Reset original view', 'home', 'home'), ('Back', 'Back to previous …"
      ]
     },
     "metadata": {},
     "output_type": "display_data"
    }
   ],
   "source": [
    "# metrics 1\n",
    "colors = ['Orange', 'RoyalBlue', 'Magenta']\n",
    "labels = ['RaHingeGAN', 'WGAN-GP', 'WGAN-div']\n",
    "\n",
    "epochs = list(range(100, 3001, 100))\n",
    "plt.close()\n",
    "plt.figure(figsize=(10, 8))\n",
    "ax_all = []\n",
    "for i, index in enumerate(metrics_1):\n",
    "    ax = plt.subplot(2, 2, i+1)\n",
    "    ax_all.append(ax)\n",
    "    plt.subplots_adjust(wspace=0.2, hspace=0.3) # Adjust the spacing between sub-pictures\n",
    "    \n",
    "    for j, metrics in enumerate([ra, gp, div]):\n",
    "        plt.plot(epochs, metrics[index], c=colors[j], marker=markers[j], label=labels[j], markersize=3)\n",
    "        # Set legend\n",
    "        plt.legend(prop={'family':'Times New Roman', 'size':12, 'weight': 'bold'}, loc='lower center', ncol=3, bbox_to_anchor=(1.1, -1.6))\n",
    "        \n",
    "    ax = plt.gca()\n",
    "    \n",
    "    # Set figure titile\n",
    "    font_title = {'family': 'Times New Roman',\n",
    "             'style': 'normal',\n",
    "             'weight': 'bold',\n",
    "             'color': 'black',\n",
    "             'size': 17\n",
    "             }\n",
    "    plt.title(index, fontdict=font_title, verticalalignment='bottom', pad=None)\n",
    "    \n",
    "    # Set tick lables\n",
    "    plt.tick_params(axis='x', labelsize='12', width=1, length=4, direction='in')\n",
    "    plt.tick_params(axis='y', labelsize='12', width=1, length=4, direction='in')\n",
    "    labels = ax.get_xticklabels() + ax.get_yticklabels()\n",
    "    [label.set_fontname('Times New Roman') for label in labels]\n",
    "    # [label.set_fontweight('bold') for label in labels]\n",
    "\n",
    "    # # Gridlines\n",
    "    plt.grid(linewidth='0.5', linestyle='--') \n",
    "\n",
    "for i in range(1, 4):\n",
    "    ax_all[i].legend_.remove()\n",
    "\n",
    "# Save\n",
    "plt.savefig('fig/ChEMBL/metrics1_Valid_Unique_Novelty_Filter_ChEMBL.pdf')\n",
    "plt.savefig('fig/ChEMBL/metrics1_Valid_Unique_Novelty_Filter_ChEMBL.png', dpi=1000)"
   ]
  },
  {
   "cell_type": "code",
   "execution_count": 8,
   "metadata": {},
   "outputs": [
    {
     "data": {
      "application/vnd.jupyter.widget-view+json": {
       "model_id": "317e7c2c0ac24b04a75f8dd6c3cd2e49",
       "version_major": 2,
       "version_minor": 0
      },
      "text/plain": [
       "Canvas(toolbar=Toolbar(toolitems=[('Home', 'Reset original view', 'home', 'home'), ('Back', 'Back to previous …"
      ]
     },
     "metadata": {},
     "output_type": "display_data"
    }
   ],
   "source": [
    "# metrics 2\n",
    "colors = ['Orange', 'RoyalBlue', 'Magenta']\n",
    "labels = ['RaHingeGAN', 'WGAN-GP', 'WGAN-div']\n",
    "\n",
    "epochs = list(range(100, 3001, 100))\n",
    "plt.close()\n",
    "plt.figure(figsize=(10, 8))\n",
    "ax_all = []\n",
    "for i, index in enumerate(metrics_2):\n",
    "    ax = plt.subplot(2, 2, i+1)\n",
    "    ax_all.append(ax)\n",
    "    plt.subplots_adjust(wspace=0.2, hspace=0.3) # Adjust the spacing between sub-pictures\n",
    "    \n",
    "    for j, metrics in enumerate([ra, gp, div]):\n",
    "        plt.plot(epochs, metrics[index], c=colors[j], marker=markers[j], label=labels[j], markersize=3)\n",
    "        # Set legend\n",
    "        plt.legend(prop={'family':'Times New Roman', 'size':12, 'weight': 'bold'}, loc='lower center', ncol=3, bbox_to_anchor=(1.1, -1.6))\n",
    "    \n",
    "    ax = plt.gca()\n",
    "    \n",
    "    # Set figure title\n",
    "    font_title = {'family': 'Times New Roman',\n",
    "             'style': 'normal',\n",
    "             'weight': 'bold',\n",
    "             'color': 'black',\n",
    "             'size': 17\n",
    "             }\n",
    "    plt.title(index, fontdict=font_title, verticalalignment='bottom', pad=None)\n",
    "    \n",
    "    # Set tick labels\n",
    "    plt.tick_params(axis='x', labelsize='12', width=1, length=4, direction='in')\n",
    "    plt.tick_params(axis='y', labelsize='12', width=1, length=4, direction='in')\n",
    "    labels = ax.get_xticklabels() + ax.get_yticklabels()\n",
    "    [label.set_fontname('Times New Roman') for label in labels]\n",
    "    # [label.set_fontweight('bold') for label in labels]\n",
    "\n",
    "    # Gridlines\n",
    "    plt.grid(linewidth='0.5', linestyle='--') \n",
    "\n",
    "for i in range(1, 4):\n",
    "    ax_all[i].legend_.remove()\n",
    "\n",
    "# Save\n",
    "plt.savefig('fig/ChEMBL/metrics2_Frag_Scaf_SNN_IntDiv_ChEMBL.pdf')\n",
    "plt.savefig('fig/ChEMBL/metrics2_Frag_Scaf_SNN_IntDiv_ChEMBL.png', dpi=1000)"
   ]
  }
 ],
 "metadata": {
  "kernelspec": {
   "display_name": "Python 3",
   "language": "python",
   "name": "python3"
  },
  "language_info": {
   "codemirror_mode": {
    "name": "ipython",
    "version": 3
   },
   "file_extension": ".py",
   "mimetype": "text/x-python",
   "name": "python",
   "nbconvert_exporter": "python",
   "pygments_lexer": "ipython3",
   "version": "3.8.5"
  }
 },
 "nbformat": 4,
 "nbformat_minor": 4
}