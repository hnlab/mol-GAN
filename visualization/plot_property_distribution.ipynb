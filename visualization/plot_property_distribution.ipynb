{
 "cells": [
  {
   "cell_type": "code",
   "execution_count": 1,
   "metadata": {},
   "outputs": [],
   "source": [
    "import seaborn as sns\n",
    "import matplotlib.pyplot as plt \n",
    "import numpy as np \n",
    "import pandas as pd\n",
    "import warnings\n",
    "import json\n",
    "from scipy.stats import wasserstein_distance\n",
    "%matplotlib widget\n",
    "\n",
    "warnings.filterwarnings(\"ignore\")"
   ]
  },
  {
   "cell_type": "code",
   "execution_count": 2,
   "metadata": {},
   "outputs": [
    {
     "name": "stdout",
     "output_type": "stream",
     "text": [
      "The number of train_data is 100000\n",
      "The number of RaHingeGAN is 160198\n",
      "The number of WGANGP is 168126\n",
      "The number of WGANdiv is 169839\n"
     ]
    },
    {
     "data": {
      "application/vnd.jupyter.widget-view+json": {
       "model_id": "131d5cec14b549d1b6fd9e6d9d9addc0",
       "version_major": 2,
       "version_minor": 0
      },
      "text/plain": [
       "Canvas(toolbar=Toolbar(toolitems=[('Home', 'Reset original view', 'home', 'home'), ('Back', 'Back to previous …"
      ]
     },
     "metadata": {},
     "output_type": "display_data"
    }
   ],
   "source": [
    "train_data = pd.read_csv('mol-RaHingeGAN/ChEMBL/ChEMBL25_property_smi.csv')\n",
    "RaHingeGAN = pd.read_csv('mol-RaHingeGAN/ChEMBL/100_property_smi.csv')\n",
    "WGANGP = pd.read_csv('mol-wgan-gp/ChEMBL/3000_property_smi.csv')\n",
    "WGANdiv = pd.read_csv('mol-wgan-div/ChEMBL/3000_property_smi.csv')\n",
    "\n",
    "print('The number of train_data is {}'.format(len(train_data)))\n",
    "print('The number of RaHingeGAN is {}'.format(len(RaHingeGAN)))\n",
    "print('The number of WGANGP is {}'.format(len(WGANGP)))\n",
    "print('The number of WGANdiv is {}'.format(len(WGANdiv)))\n",
    "\n",
    "train_data['QED'] = train_data['qed']\n",
    "RaHingeGAN['QED'] = RaHingeGAN['qed']\n",
    "WGANGP['QED'] = WGANGP['qed']\n",
    "WGANdiv['QED'] = WGANdiv['qed']\n",
    "\n",
    "\n",
    "plt.close()\n",
    "plt.figure(figsize=(20, 20))\n",
    "legends = ['Training set', 'RaHingeGAN', 'WGAN-GP', 'WGAN-div']\n",
    "mol_discriptors = ['MolWt', 'MolLogP', 'BertzCT', 'TPSA', 'QED', 'SA']\n",
    "ax_all = []\n",
    "\n",
    "for subfig in range(len(mol_discriptors)):\n",
    "    ax = plt.subplot(3, 2, subfig+1)\n",
    "    ax_all.append(ax)\n",
    "    # Adjust the spacing between sub-pictures\n",
    "    plt.subplots_adjust(wspace=0.3, hspace=0.3) \n",
    "\n",
    "    for i, df in enumerate([train_data, RaHingeGAN, WGANGP, WGANdiv]): \n",
    "        sns.distplot(\n",
    "            df[mol_discriptors[subfig]],\n",
    "            hist=False,\n",
    "            kde=True,\n",
    "            kde_kws={\"shade\": True, \"linewidth\": 3},\n",
    "            label=\"{0}\".format(legends[i]),\n",
    "        )\n",
    "\n",
    "\n",
    "    ax = plt.gca()\n",
    "\n",
    "    # Set figure title\n",
    "    font_title = {'family': 'Times New Roman',\n",
    "             'style': 'normal',\n",
    "             'weight': 'bold',\n",
    "             'color': 'black',\n",
    "             'size': 18\n",
    "             }\n",
    "    # plt.title(\"MolWt\", fontdict=font_title, verticalalignment='bottom', pad=None)  \n",
    "\n",
    "    # Set legend\n",
    "    plt.legend(prop={'family':'Times New Roman', 'size':18, 'weight': 'bold'}, loc='lower center', ncol=4, bbox_to_anchor=(1.1, 1.1))\n",
    "\n",
    "    # Set tick lables\n",
    "    plt.tick_params(axis='x', labelsize='16', width=2, length=6, direction='in')\n",
    "    plt.tick_params(axis='y', labelsize='16', width=2, length=6, direction='in')\n",
    "    labels = ax.get_xticklabels() + ax.get_yticklabels()\n",
    "    [label.set_fontname('Times New Roman') for label in labels]\n",
    "    [label.set_fontweight('bold') for label in labels]\n",
    "    \n",
    "    \n",
    "    # Set the thickness of the coordinate axis\n",
    "    ax.spines['bottom'].set_linewidth(2)\n",
    "    ax.spines['left'].set_linewidth(2)\n",
    "    ax.spines['right'].set_linewidth(2)\n",
    "    ax.spines['top'].set_linewidth(2)\n",
    "\n",
    "    # # Range of abscissa and ordinate \n",
    "    # # plt.xlim([-10, 3000*1.1])\n",
    "    # # plt.ylim([y1.min()*1.1, y1.max()*1.1])\n",
    "\n",
    "    # Set axis labels\n",
    "    x_label = {'family': 'Times New Roman',\n",
    "             'style': 'normal',\n",
    "             'weight': 'semibold',\n",
    "             'color': 'black',\n",
    "             'size': 22\n",
    "             }\n",
    "    y_label = {'family': 'Times New Roman',\n",
    "             'style': 'normal',\n",
    "             'weight': 'semibold',\n",
    "             'color': 'black',\n",
    "             'size': 22\n",
    "             }\n",
    "    plt.xlabel(mol_discriptors[subfig], fontdict=x_label)\n",
    "    plt.ylabel(\"Density\", fontdict=y_label,)\n",
    "\n",
    "# print(len(ax_all))\n",
    "for i in range(1, 6):\n",
    "    ax_all[i].legend_.remove()\n",
    "\n",
    "\n",
    "# # Gridlines\n",
    "# plt.grid(linewidth='0.5', linestyle='--') \n",
    "\n",
    "# Save\n",
    "plt.savefig('fig/ChEMBL/Kernel_Density_Curve_ChEMBL.pdf')\n",
    "plt.savefig('fig/ChEMBL/Kernel_Density_Curve_ChEMBL.png', dpi=1000)"
   ]
  }
 ],
 "metadata": {
  "kernelspec": {
   "display_name": "Python 3",
   "language": "python",
   "name": "python3"
  },
  "language_info": {
   "codemirror_mode": {
    "name": "ipython",
    "version": 3
   },
   "file_extension": ".py",
   "mimetype": "text/x-python",
   "name": "python",
   "nbconvert_exporter": "python",
   "pygments_lexer": "ipython3",
   "version": "3.8.5"
  }
 },
 "nbformat": 4,
 "nbformat_minor": 4
}