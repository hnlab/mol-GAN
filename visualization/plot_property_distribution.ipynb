{
 "cells": [
  {
   "cell_type": "code",
   "execution_count": 1,
   "metadata": {},
   "outputs": [],
   "source": [
    "import seaborn as sns\n",
    "import matplotlib.pyplot as plt \n",
    "import numpy as np \n",
    "import pandas as pd\n",
    "import warnings\n",
    "import json\n",
    "from scipy.stats import wasserstein_distance\n",
    "%matplotlib widget\n",
    "\n",
    "warnings.filterwarnings(\"ignore\")"
   ]
  },
  {
   "cell_type": "markdown",
   "metadata": {},
   "source": [
    "### 1. 获取数据"
   ]
  },
  {
   "cell_type": "code",
   "execution_count": 3,
   "metadata": {},
   "outputs": [
    {
     "name": "stdout",
     "output_type": "stream",
     "text": [
      "The number of train_data is 100000\n",
      "The number of gen_data is 143420\n"
     ]
    }
   ],
   "source": [
    "train_data = pd.read_csv('ChEMBL25_property_smi.csv')\n",
    "gen_data = pd.read_csv('3000_property_smi.csv')\n",
    "\n",
    "print('The number of train_data is {}'.format(len(train_data)))\n",
    "print('The number of gen_data is {}'.format(len(gen_data)))"
   ]
  },
  {
   "cell_type": "code",
   "execution_count": 4,
   "metadata": {},
   "outputs": [],
   "source": [
    "train_data['QED'] = train_data['qed']\n",
    "gen_data['QED'] = gen_data['qed']"
   ]
  },
  {
   "cell_type": "code",
   "execution_count": 10,
   "metadata": {},
   "outputs": [
    {
     "data": {
      "application/vnd.jupyter.widget-view+json": {
       "model_id": "39c5799b988c4cf78d77a0d840acd3dd",
       "version_major": 2,
       "version_minor": 0
      },
      "text/plain": [
       "Canvas(toolbar=Toolbar(toolitems=[('Home', 'Reset original view', 'home', 'home'), ('Back', 'Back to previous …"
      ]
     },
     "metadata": {},
     "output_type": "display_data"
    }
   ],
   "source": [
    "plt.close()\n",
    "plt.figure(figsize=(20, 20))\n",
    "legends = ['Training set', 'Generating set']\n",
    "mol_discriptors = ['MolWt', 'MolLogP', 'BertzCT', 'TPSA', 'QED', 'SA']\n",
    "\n",
    "for subfig in range(len(mol_discriptors)):\n",
    "    plt.subplot(3, 2, subfig+1)\n",
    "    plt.subplots_adjust(wspace=0.3, hspace=0.3)#调整子图间距\n",
    "\n",
    "    for i, df in enumerate([train_data, gen_data]): \n",
    "        dist = wasserstein_distance(df[mol_discriptors[subfig]], train_data[mol_discriptors[subfig]])\n",
    "        sns.distplot(\n",
    "            df[mol_discriptors[subfig]],\n",
    "            # bins=200,\n",
    "            hist=False,\n",
    "            kde=True,\n",
    "            kde_kws={\"shade\": True, \"linewidth\": 3},\n",
    "            label=\"{0} ({1:0.2g})\".format(legends[i], dist),\n",
    "        )\n",
    "\n",
    "\n",
    "    ax = plt.gca()\n",
    "\n",
    "    # 设置图标题\n",
    "    font_title = {'family': 'Times New Roman',\n",
    "             'style': 'normal',\n",
    "             'weight': 'bold',\n",
    "             'color': 'black',\n",
    "             'size': 18\n",
    "             }\n",
    "    # plt.title(\"MolWt\", fontdict=font_title, verticalalignment='bottom', pad=None)  \n",
    "    \n",
    "    if mol_discriptors[subfig] == 'MolLogP':\n",
    "        plt.xlim(-2, 10)\n",
    "    if mol_discriptors[subfig] == 'QED':\n",
    "        plt.xlim(-0.1, 1.5)    \n",
    "\n",
    "    # 设置图例\n",
    "    plt.legend(prop={'family':'Times New Roman', 'size':16}, loc='upper right')\n",
    "\n",
    "    # 设置刻度线标签\n",
    "    plt.tick_params(axis='x', labelsize='16', width=2, length=6, direction='in')\n",
    "    plt.tick_params(axis='y', labelsize='16', width=2, length=6, direction='in')\n",
    "    labels = ax.get_xticklabels() + ax.get_yticklabels()\n",
    "    [label.set_fontname('Times New Roman') for label in labels]\n",
    "    [label.set_fontweight('bold') for label in labels]\n",
    "    \n",
    "    \n",
    "    #设置坐标轴的粗细\n",
    "    ax.spines['bottom'].set_linewidth(2)\n",
    "    ax.spines['left'].set_linewidth(2)\n",
    "    ax.spines['right'].set_linewidth(2)\n",
    "    ax.spines['top'].set_linewidth(2)\n",
    "\n",
    "    # # 横纵坐标范围\n",
    "    # # plt.xlim([-10, 3000*1.1])\n",
    "    # # plt.ylim([y1.min()*1.1, y1.max()*1.1])\n",
    "\n",
    "    # 设置坐标轴标签\n",
    "    x_label = {'family': 'Times New Roman',\n",
    "             'style': 'normal',\n",
    "             'weight': 'semibold',\n",
    "             'color': 'black',\n",
    "             'size': 22\n",
    "             }\n",
    "    y_label = {'family': 'Times New Roman',\n",
    "             'style': 'normal',\n",
    "             'weight': 'semibold',\n",
    "             'color': 'black',\n",
    "             'size': 22\n",
    "             }\n",
    "    plt.xlabel(mol_discriptors[subfig], fontdict=x_label)\n",
    "    plt.ylabel(\"Density\", fontdict=y_label,)\n",
    "\n",
    "# # 网格线\n",
    "# plt.grid(linewidth='0.5', linestyle='--') \n",
    "\n",
    "# 保存\n",
    "plt.savefig('Kernel_Density_Curve_ChEMBL.pdf')\n",
    "plt.savefig('Kernel_Density_Curve_ChEMBL.png', dpi=1000)"
   ]
  },
  {
   "cell_type": "code",
   "execution_count": null,
   "metadata": {},
   "outputs": [],
   "source": []
  }
 ],
 "metadata": {
  "kernelspec": {
   "display_name": "Python 3",
   "language": "python",
   "name": "python3"
  },
  "language_info": {
   "codemirror_mode": {
    "name": "ipython",
    "version": 3
   },
   "file_extension": ".py",
   "mimetype": "text/x-python",
   "name": "python",
   "nbconvert_exporter": "python",
   "pygments_lexer": "ipython3",
   "version": "3.8.5"
  }
 },
 "nbformat": 4,
 "nbformat_minor": 4
}
