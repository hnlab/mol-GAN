{
 "cells": [
  {
   "cell_type": "code",
   "execution_count": 1,
   "metadata": {},
   "outputs": [],
   "source": [
    "import seaborn as sns\n",
    "import matplotlib.pyplot as plt \n",
    "import numpy as np \n",
    "import pandas as pd\n",
    "import warnings\n",
    "import json\n",
    "from scipy.stats import wasserstein_distance\n",
    "%matplotlib widget\n",
    "\n",
    "warnings.filterwarnings(\"ignore\")"
   ]
  },
  {
   "cell_type": "code",
   "execution_count": 2,
   "metadata": {},
   "outputs": [
    {
     "name": "stdout",
     "output_type": "stream",
     "text": [
      "The number of train_data is 100000\n",
      "The number of RaHingeGAN is 160198\n",
      "The number of WGANGP is 168126\n",
      "The number of WGANdiv is 169839\n"
     ]
    },
    {
     "data": {
      "application/vnd.jupyter.widget-view+json": {
       "model_id": "d1f95005ac3349ac8bd35330430917f1",
       "version_major": 2,
       "version_minor": 0
      },
      "text/plain": [
       "Canvas(toolbar=Toolbar(toolitems=[('Home', 'Reset original view', 'home', 'home'), ('Back', 'Back to previous …"
      ]
     },
     "metadata": {},
     "output_type": "display_data"
    }
   ],
   "source": [
    "train_data = pd.read_csv('mol-RaHingeGAN/ChEMBL/ChEMBL25_property_smi.csv')\n",
    "RaHingeGAN = pd.read_csv('mol-RaHingeGAN/ChEMBL/100_property_smi.csv')\n",
    "WGANGP = pd.read_csv('mol-wgan-gp/ChEMBL/3000_property_smi.csv')\n",
    "WGANdiv = pd.read_csv('mol-wgan-div/ChEMBL/3000_property_smi.csv')\n",
    "\n",
    "print('The number of train_data is {}'.format(len(train_data)))\n",
    "print('The number of RaHingeGAN is {}'.format(len(RaHingeGAN)))\n",
    "print('The number of WGANGP is {}'.format(len(WGANGP)))\n",
    "print('The number of WGANdiv is {}'.format(len(WGANdiv)))\n",
    "\n",
    "train_data['QED'] = train_data['qed']\n",
    "RaHingeGAN['QED'] = RaHingeGAN['qed']\n",
    "WGANGP['QED'] = WGANGP['qed']\n",
    "WGANdiv['QED'] = WGANdiv['qed']\n",
    "\n",
    "train_data['SetType'] = 'Training set'\n",
    "RaHingeGAN['SetType'] = 'RaHingeGAN'\n",
    "WGANGP['SetType'] = 'WGAN-GP'\n",
    "WGANdiv['SetType'] = 'WGAN-div'\n",
    "\n",
    "all_data = pd.concat([train_data, RaHingeGAN, WGANGP, WGANdiv], axis=0)\n",
    "\n",
    "mol_discriptors = ['MolWt', 'MolLogP', 'BertzCT', 'TPSA', 'QED', 'SA']\n",
    "\n",
    "plt.close()\n",
    "plt.figure(figsize=(20, 20))\n",
    "sns.set_style('darkgrid')\n",
    "\n",
    "for subfig in range(len(mol_discriptors)):\n",
    "    plt.subplot(3, 2, subfig+1)\n",
    "    plt.subplots_adjust(wspace=0.3, hspace=0.3) # Adjust the spacing between sub-pictures\n",
    "    \n",
    "    sns.violinplot(x = \"SetType\", \n",
    "                   y = mol_discriptors[subfig], \n",
    "                   data = all_data, \n",
    "                   palette = 'RdBu', \n",
    "                   saturation=1,\n",
    "                  )\n",
    "\n",
    "    ax = plt.gca()\n",
    "\n",
    "    # Set figure title\n",
    "    font_title = {'family': 'Times New Roman',\n",
    "             'style': 'normal',\n",
    "             'weight': 'bold',\n",
    "             'color': 'black',\n",
    "             'size': 26\n",
    "             }\n",
    "    plt.title(mol_discriptors[subfig], fontdict=font_title, verticalalignment='bottom', pad=None)  \n",
    "\n",
    "    # Set tick labels\n",
    "    plt.tick_params(axis='x', labelsize='20', width=2, length=6, direction='in')\n",
    "    plt.tick_params(axis='y', labelsize='20', width=2, length=6, direction='in')\n",
    "    labels = ax.get_xticklabels() + ax.get_yticklabels()\n",
    "    [label.set_fontname('Times New Roman') for label in labels]\n",
    "    [label.set_fontweight('bold') for label in labels]\n",
    "\n",
    "    plt.xlabel('')\n",
    "    plt.ylabel('')\n",
    "\n",
    "# Save\n",
    "plt.savefig('fig/ChEMBL/Violin_Plot_ChEMBL.pdf')\n",
    "plt.savefig('fig/ChEMBL/Violin_Plot_ChEMBL.png', dpi=1000)"
   ]
  },
  {
   "cell_type": "code",
   "execution_count": null,
   "metadata": {},
   "outputs": [],
   "source": []
  }
 ],
 "metadata": {
  "kernelspec": {
   "display_name": "Python 3",
   "language": "python",
   "name": "python3"
  },
  "language_info": {
   "codemirror_mode": {
    "name": "ipython",
    "version": 3
   },
   "file_extension": ".py",
   "mimetype": "text/x-python",
   "name": "python",
   "nbconvert_exporter": "python",
   "pygments_lexer": "ipython3",
   "version": "3.8.5"
  }
 },
 "nbformat": 4,
 "nbformat_minor": 4
}