{
 "cells": [
  {
   "cell_type": "code",
   "execution_count": 1,
   "metadata": {},
   "outputs": [],
   "source": [
    "import seaborn as sns\n",
    "import matplotlib.pyplot as plt \n",
    "import numpy as np \n",
    "import pandas as pd\n",
    "import warnings\n",
    "import json\n",
    "from scipy.stats import wasserstein_distance\n",
    "%matplotlib widget\n",
    "\n",
    "warnings.filterwarnings(\"ignore\")"
   ]
  },
  {
   "cell_type": "markdown",
   "metadata": {},
   "source": [
    "### 1. 获取数据"
   ]
  },
  {
   "cell_type": "code",
   "execution_count": 3,
   "metadata": {},
   "outputs": [
    {
     "name": "stdout",
     "output_type": "stream",
     "text": [
      "The number of train_data is 100000\n",
      "The number of gen_data is 143420\n"
     ]
    }
   ],
   "source": [
    "train_data = pd.read_csv('ChEMBL25_property_smi.csv')\n",
    "gen_data = pd.read_csv('3000_property_smi.csv')\n",
    "\n",
    "print('The number of train_data is {}'.format(len(train_data)))\n",
    "print('The number of gen_data is {}'.format(len(gen_data)))"
   ]
  },
  {
   "cell_type": "code",
   "execution_count": 4,
   "metadata": {},
   "outputs": [],
   "source": [
    "train_data['QED'] = train_data['qed']\n",
    "gen_data['QED'] = gen_data['qed']"
   ]
  },
  {
   "cell_type": "code",
   "execution_count": 5,
   "metadata": {},
   "outputs": [],
   "source": [
    "train_data['SetType'] = 'Training set'\n",
    "gen_data['SetType'] = 'Generating set'"
   ]
  },
  {
   "cell_type": "code",
   "execution_count": 6,
   "metadata": {},
   "outputs": [],
   "source": [
    "all_data = pd.concat([train_data, gen_data], axis=0)"
   ]
  },
  {
   "cell_type": "code",
   "execution_count": 7,
   "metadata": {},
   "outputs": [],
   "source": [
    "legends = ['Training set', 'Generating set']\n",
    "mol_discriptors = ['MolWt', 'MolLogP', 'BertzCT', 'TPSA', 'QED', 'SA']"
   ]
  },
  {
   "cell_type": "code",
   "execution_count": 9,
   "metadata": {},
   "outputs": [
    {
     "data": {
      "application/vnd.jupyter.widget-view+json": {
       "model_id": "b1c3e1df339c4f2e860fd0d7c3f898e4",
       "version_major": 2,
       "version_minor": 0
      },
      "text/plain": [
       "Canvas(toolbar=Toolbar(toolitems=[('Home', 'Reset original view', 'home', 'home'), ('Back', 'Back to previous …"
      ]
     },
     "metadata": {},
     "output_type": "display_data"
    }
   ],
   "source": [
    "plt.close()\n",
    "plt.figure(figsize=(20, 20))\n",
    "sns.set_style('darkgrid')\n",
    "\n",
    "for subfig in range(len(mol_discriptors)):\n",
    "    plt.subplot(3, 2, subfig+1)\n",
    "    plt.subplots_adjust(wspace=0.3, hspace=0.3)#调整子图间距\n",
    "    \n",
    "    sns.violinplot(x = \"SetType\", \n",
    "                   y = mol_discriptors[subfig], \n",
    "                   # hue = \"SetType\", \n",
    "                   data = all_data, \n",
    "                   order = ['Training set', 'Generating set'], \n",
    "                   # scale = 'count', \n",
    "                   # split = False, \n",
    "                   # color='r'\n",
    "                   palette = 'RdBu', \n",
    "                   saturation=1,\n",
    "                   # inner='quartiles'\n",
    "                  )\n",
    "\n",
    "    ax = plt.gca()\n",
    "\n",
    "    # 设置图标题\n",
    "    font_title = {'family': 'Times New Roman',\n",
    "             'style': 'normal',\n",
    "             'weight': 'bold',\n",
    "             'color': 'black',\n",
    "             'size': 26\n",
    "             }\n",
    "    plt.title(mol_discriptors[subfig], fontdict=font_title, verticalalignment='bottom', pad=None)  \n",
    "\n",
    "\n",
    "    # 设置刻度线标签\n",
    "    plt.tick_params(axis='x', labelsize='20', width=2, length=6, direction='in')\n",
    "    plt.tick_params(axis='y', labelsize='20', width=2, length=6, direction='in')\n",
    "    labels = ax.get_xticklabels() + ax.get_yticklabels()\n",
    "    [label.set_fontname('Times New Roman') for label in labels]\n",
    "    [label.set_fontweight('bold') for label in labels]\n",
    "\n",
    "    plt.xlabel('')\n",
    "    plt.ylabel('')\n",
    "\n",
    "    \n",
    "# 保存\n",
    "plt.savefig('Violin_Plot_ChEMBL.pdf')\n",
    "plt.savefig('Violin_Plot_ChEMBL.png', dpi=1000)"
   ]
  },
  {
   "cell_type": "code",
   "execution_count": null,
   "metadata": {},
   "outputs": [],
   "source": []
  }
 ],
 "metadata": {
  "kernelspec": {
   "display_name": "Python 3",
   "language": "python",
   "name": "python3"
  },
  "language_info": {
   "codemirror_mode": {
    "name": "ipython",
    "version": 3
   },
   "file_extension": ".py",
   "mimetype": "text/x-python",
   "name": "python",
   "nbconvert_exporter": "python",
   "pygments_lexer": "ipython3",
   "version": "3.8.5"
  }
 },
 "nbformat": 4,
 "nbformat_minor": 4
}
